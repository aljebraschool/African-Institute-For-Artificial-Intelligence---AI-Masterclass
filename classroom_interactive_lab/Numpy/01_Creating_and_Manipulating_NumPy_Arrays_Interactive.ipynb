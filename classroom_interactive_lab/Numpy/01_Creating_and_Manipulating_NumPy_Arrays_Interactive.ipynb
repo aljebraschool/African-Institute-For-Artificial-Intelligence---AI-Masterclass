{
  "nbformat": 4,
  "nbformat_minor": 0,
  "metadata": {
    "colab": {
      "provenance": []
    },
    "kernelspec": {
      "name": "python3",
      "display_name": "Python 3"
    },
    "language_info": {
      "name": "python"
    }
  },
  "cells": [
    {
      "cell_type": "markdown",
      "source": [
        "# Interactive Exercise: NumPy Fundamentals\n",
        "\n",
        "This notebook contains interactive coding exercises on [topic] using:\n",
        "- Fill-in-the-blanks activities\n",
        "- Bite-sized challenges\n",
        "- Debugging exercises\n",
        "\n",
        "\n",
        "## How to use this notebook:\n",
        "1. Make a copy to your own Google Drive\n",
        "2. Fill in the blank sections marked with TODO comments\n",
        "3. Run each cell to test your solutions\n",
        "4. Complete the challenges at your own pace"
      ],
      "metadata": {
        "id": "hKKMFGgMufq8"
      }
    },
    {
      "cell_type": "markdown",
      "source": [
        "# Question 01: Creating and Manipulating NumPy Arrays\n",
        "## Here's how we can approach this with interactive elements:\n",
        "## Fill-in-the-Blanks Version:\n",
        "\n",
        "\n",
        "\n"
      ],
      "metadata": {
        "id": "obPt8Ig1qvSt"
      }
    },
    {
      "cell_type": "code",
      "execution_count": null,
      "metadata": {
        "id": "FAaJJJpomutd"
      },
      "outputs": [],
      "source": [
        "# ARRAY CREATION EXERCISE\n",
        "# Goal: Create arrays and perform basic operations\n",
        "\n",
        "# Create a 1D array with values from 0 to 9\n",
        "arr1 = np._________(10)  # TODO: Use appropriate function to create array [0,1,2,...,9]\n",
        "\n",
        "# Create a 3x3 array of zeros\n",
        "arr2 = np._________(shape=(_____, _____), dtype=int)  # TODO: Use zeros function with correct shape\n",
        "\n",
        "# Create a 1D array with 5 evenly spaced values from 0 to 1\n",
        "arr3 = np._________(_____, _____, _____)  # TODO: Use linspace with correct parameters\n",
        "\n",
        "# Create a 2x4 array with random integers between 1 and 10\n",
        "arr4 = np.random._________(_____, _____, size=(_____, _____))  # TODO: Use randint with correct parameters\n",
        "\n",
        "# Print all arrays to check your work\n",
        "print(\"arr1:\", arr1)\n",
        "print(\"arr2:\", arr2)\n",
        "print(\"arr3:\", arr3)\n",
        "print(\"arr4:\", arr4)"
      ]
    },
    {
      "cell_type": "markdown",
      "source": [
        "# Bite-Sized Challenge:"
      ],
      "metadata": {
        "id": "m5r8Cme1rSo6"
      }
    },
    {
      "cell_type": "code",
      "source": [
        "# CHALLENGE: Create and manipulate arrays\n",
        "# 1. Create a 4x4 identity matrix\n",
        "# 2. Create a 1D array with values from 10 to 1 (descending)\n",
        "# 3. Create a 3x3 array filled with the value 5\n",
        "\n",
        "# Write your solution below:\n",
        "\n",
        "\n",
        "\n",
        "# BONUS CHALLENGE: Create an array of 10 values evenly spaced on a logarithmic scale from 10^1 to 10^2"
      ],
      "metadata": {
        "id": "gcEDQgowrUdc"
      },
      "execution_count": null,
      "outputs": []
    },
    {
      "cell_type": "markdown",
      "source": [
        "# Debugging Exercise:"
      ],
      "metadata": {
        "id": "hdXTssA5rcTt"
      }
    },
    {
      "cell_type": "code",
      "source": [
        "# DEBUG CHALLENGE: Fix the errors in this code that should create different arrays\n",
        "\n",
        "# Trying to create an array with values from 1 to 10\n",
        "arr_a = np.arrange(1, 11)\n",
        "\n",
        "# Trying to create a 2x3 array of ones\n",
        "arr_b = np.ones[2, 3]\n",
        "\n",
        "# Trying to create an array with values [3,6,9,12,15]\n",
        "arr_c = np.arange(3, 16, 3])\n",
        "\n",
        "# Trying to create a 2x2 array with random floats between 0 and 1\n",
        "arr_d = np.random.rand(2, 2\n",
        "\n",
        "print(\"Fixed arrays:\")\n",
        "print(arr_a)\n",
        "print(arr_b)\n",
        "print(arr_c)\n",
        "print(arr_d)"
      ],
      "metadata": {
        "id": "N4NurYOwrdO8"
      },
      "execution_count": null,
      "outputs": []
    }
  ]
}