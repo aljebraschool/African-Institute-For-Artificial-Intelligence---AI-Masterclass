{
  "nbformat": 4,
  "nbformat_minor": 0,
  "metadata": {
    "colab": {
      "provenance": []
    },
    "kernelspec": {
      "name": "python3",
      "display_name": "Python 3"
    },
    "language_info": {
      "name": "python"
    }
  },
  "cells": [
    {
      "cell_type": "markdown",
      "source": [
        "# Interactive Exercise: NumPy Fundamentals\n",
        "\n",
        "This notebook contains interactive coding exercises on [topic] using:\n",
        "- Fill-in-the-blanks activities\n",
        "- Bite-sized challenges\n",
        "- Debugging exercises\n",
        "\n",
        "\n",
        "## How to use this notebook:\n",
        "1. Make a copy to your own Google Drive\n",
        "2. Fill in the blank sections marked with TODO comments\n",
        "3. Run each cell to test your solutions\n",
        "4. Complete the challenges at your own pace"
      ],
      "metadata": {
        "id": "hKKMFGgMufq8"
      }
    },
    {
      "cell_type": "markdown",
      "source": [
        "# Question 02: Array Operations and Broadcasting\n",
        "## Here's how we can approach this with interactive elements:\n",
        "## Fill-in-the-Blanks Version:\n",
        "\n",
        "\n",
        "\n"
      ],
      "metadata": {
        "id": "obPt8Ig1qvSt"
      }
    },
    {
      "cell_type": "code",
      "source": [
        "# Import NumPy\n",
        "import numpy as np"
      ],
      "metadata": {
        "id": "yDiYkz0WgqSV"
      },
      "execution_count": 1,
      "outputs": []
    },
    {
      "cell_type": "code",
      "execution_count": null,
      "metadata": {
        "id": "FAaJJJpomutd"
      },
      "outputs": [],
      "source": [
        "# ARRAY OPERATIONS EXERCISE\n",
        "# Goal: Perform basic arithmetic operations and use broadcasting\n",
        "\n",
        "# Create two arrays\n",
        "arr1 = np.array([1, 2, 3, 4])\n",
        "arr2 = np.array([10, 10, 10, 10])\n",
        "\n",
        "# Perform basic arithmetic\n",
        "sum_arr = arr1 _____ arr2  # TODO: Addition operator\n",
        "diff_arr = arr1 _____ arr2  # TODO: Subtraction operator\n",
        "prod_arr = arr1 _____ arr2  # TODO: Multiplication operator\n",
        "div_arr = arr1 _____ arr2   # TODO: Division operator\n",
        "\n",
        "# Create a 3x3 array\n",
        "matrix = np.array([[1, 2, 3],\n",
        "                   [4, 5, 6],\n",
        "                   [7, 8, 9]])\n",
        "\n",
        "# Add 10 to each element using broadcasting\n",
        "matrix_plus_10 = matrix _____ _____  # TODO: Use broadcasting to add 10\n",
        "\n",
        "# Multiply each row by a different value using broadcasting\n",
        "row_factors = np.array([10, 100, 1000]).reshape(_____, _____)  # TODO: Reshape to column vector\n",
        "scaled_matrix = matrix _____ row_factors  # TODO: Use broadcasting to multiply\n",
        "\n",
        "print(\"Basic operations:\")\n",
        "print(\"Sum:\", sum_arr)\n",
        "print(\"Difference:\", diff_arr)\n",
        "print(\"Product:\", prod_arr)\n",
        "print(\"Division:\", div_arr)\n",
        "print(\"\\nBroadcasting results:\")\n",
        "print(\"Matrix + 10:\\n\", matrix_plus_10)\n",
        "print(\"Scaled matrix:\\n\", scaled_matrix)"
      ]
    },
    {
      "cell_type": "markdown",
      "source": [
        "# Bite-Sized Challenge:"
      ],
      "metadata": {
        "id": "m5r8Cme1rSo6"
      }
    },
    {
      "cell_type": "code",
      "source": [
        "# CHALLENGE: Working with broadcasting\n",
        "# 1. Create a 4x3 array of random integers between 1 and 5\n",
        "# 2. Subtract the mean of each column from the corresponding column\n",
        "#    (Hint: Calculate column means and use broadcasting)\n",
        "# 3. Divide each row by the sum of the row\n",
        "\n",
        "# Write your solution below:\n",
        "\n",
        "\n",
        "\n",
        "# BONUS CHALLENGE: Create a 3x3 checkerboard pattern (alternating 0s and 1s) using broadcasting"
      ],
      "metadata": {
        "id": "gcEDQgowrUdc"
      },
      "execution_count": null,
      "outputs": []
    },
    {
      "cell_type": "markdown",
      "source": [
        "# Debugging Exercise:"
      ],
      "metadata": {
        "id": "hdXTssA5rcTt"
      }
    },
    {
      "cell_type": "code",
      "source": [
        "# DEBUG CHALLENGE: Fix the errors in this code related to array operations and broadcasting\n",
        "\n",
        "# Create arrays\n",
        "arr1 = np.array([1, 2, 3])\n",
        "arr2 = np.array([[1], [2], [3]])\n",
        "\n",
        "# Attempt to add arrays with broadcasting\n",
        "result1 = arr1 + arr2  # This line has a logical error\n",
        "\n",
        "# Attempt to compute element-wise square root\n",
        "arr3 = np.array([4, 9, 16, 25])\n",
        "result2 = arr3 ^ 0.5  # This line has a conceptual error\n",
        "\n",
        "# Attempt to multiply a 2x3 matrix by a 3-element vector\n",
        "matrix = np.array([[1, 2, 3], [4, 5, 6]])\n",
        "vector = np.array([2, 3, 4])\n",
        "result3 = matrix * vector  # This line uses incorrect multiplication for this purpose\n",
        "\n",
        "# What's wrong with each operation? Fix the code to make it work correctly."
      ],
      "metadata": {
        "id": "N4NurYOwrdO8"
      },
      "execution_count": null,
      "outputs": []
    }
  ]
}