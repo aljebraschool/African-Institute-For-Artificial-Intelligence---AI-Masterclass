{
  "nbformat": 4,
  "nbformat_minor": 0,
  "metadata": {
    "colab": {
      "provenance": []
    },
    "kernelspec": {
      "name": "python3",
      "display_name": "Python 3"
    },
    "language_info": {
      "name": "python"
    }
  },
  "cells": [
    {
      "cell_type": "markdown",
      "source": [
        "# Interactive Exercise: NumPy Fundamentals\n",
        "\n",
        "This notebook contains interactive coding exercises on [topic] using:\n",
        "- Fill-in-the-blanks activities\n",
        "- Bite-sized challenges\n",
        "- Debugging exercises\n",
        "\n",
        "\n",
        "## How to use this notebook:\n",
        "1. Make a copy to your own Google Drive\n",
        "2. Fill in the blank sections marked with TODO comments\n",
        "3. Run each cell to test your solutions\n",
        "4. Complete the challenges at your own pace"
      ],
      "metadata": {
        "id": "hKKMFGgMufq8"
      }
    },
    {
      "cell_type": "markdown",
      "source": [
        "# Question 03: Indexing, Slicing and Reshaping\n",
        "## Here's how we can approach this with interactive elements:\n",
        "## Fill-in-the-Blanks Version:\n",
        "\n",
        "\n",
        "\n"
      ],
      "metadata": {
        "id": "obPt8Ig1qvSt"
      }
    },
    {
      "cell_type": "code",
      "source": [
        "# Import NumPy\n",
        "import numpy as np"
      ],
      "metadata": {
        "id": "yDiYkz0WgqSV"
      },
      "execution_count": null,
      "outputs": []
    },
    {
      "cell_type": "code",
      "execution_count": null,
      "metadata": {
        "id": "FAaJJJpomutd"
      },
      "outputs": [],
      "source": [
        "# INDEXING, SLICING AND RESHAPING EXERCISE\n",
        "# Goal: Practice different ways to access and manipulate array elements\n",
        "\n",
        "# Create a 1D array\n",
        "arr = np.arange(10)\n",
        "print(\"Original array:\", arr)\n",
        "\n",
        "# Access elements\n",
        "first_element = arr[_____]  # TODO: Get first element\n",
        "last_element = arr[_____]   # TODO: Get last element\n",
        "from_third_to_seventh = arr[_____:_____]  # TODO: Get elements from index 2 to 6\n",
        "\n",
        "# Create a 3x4 array\n",
        "matrix = np.arange(12).reshape(_____, _____)  # TODO: Reshape into 3 rows, 4 columns\n",
        "print(\"\\nMatrix:\\n\", matrix)\n",
        "\n",
        "# Access elements and slices\n",
        "corner_element = matrix[_____, _____]  # TODO: Get element at row 2, column 3\n",
        "second_row = matrix[_____, _____]  # TODO: Get entire second row\n",
        "first_two_cols = matrix[_____, _____:_____]  # TODO: Get first two columns for all rows\n",
        "\n",
        "# Reshaping operations\n",
        "transposed = matrix._____()  # TODO: Transpose the matrix\n",
        "flattened = matrix._____()   # TODO: Flatten the matrix to 1D\n",
        "rearranged = matrix.reshape(_____, _____)  # TODO: Reshape to 4 rows, 3 columns\n",
        "\n",
        "print(\"\\nAccessed elements:\")\n",
        "print(\"First element:\", first_element)\n",
        "print(\"Last element:\", last_element)\n",
        "print(\"From third to seventh:\", from_third_to_seventh)\n",
        "print(\"Corner element:\", corner_element)\n",
        "print(\"Second row:\", second_row)\n",
        "print(\"First two columns:\\n\", first_two_cols)\n",
        "print(\"\\nReshaped arrays:\")\n",
        "print(\"Transposed:\\n\", transposed)\n",
        "print(\"Flattened:\", flattened)\n",
        "print(\"Rearranged:\\n\", rearranged)"
      ]
    },
    {
      "cell_type": "markdown",
      "source": [
        "# Bite-Sized Challenge:"
      ],
      "metadata": {
        "id": "m5r8Cme1rSo6"
      }
    },
    {
      "cell_type": "code",
      "source": [
        "# CHALLENGE: Advanced indexing and reshaping\n",
        "# 1. Create a 5x5 array of integers from 0 to 24\n",
        "# 2. Extract the border elements (first/last row, first/last column)\n",
        "# 3. Extract the central 3x3 submatrix\n",
        "# 4. Reshape the array into a 3D array with shape (5, 5, 1)\n",
        "\n",
        "# Write your solution below:\n",
        "\n",
        "\n",
        "\n",
        "# BONUS CHALLENGE: Create a 4x4 matrix and swap its diagonal elements with anti-diagonal elements"
      ],
      "metadata": {
        "id": "gcEDQgowrUdc"
      },
      "execution_count": null,
      "outputs": []
    },
    {
      "cell_type": "markdown",
      "source": [
        "# Debugging Exercise:"
      ],
      "metadata": {
        "id": "hdXTssA5rcTt"
      }
    },
    {
      "cell_type": "code",
      "source": [
        "# DEBUG CHALLENGE: Fix the errors in this code that should perform various indexing and reshaping operations\n",
        "\n",
        "# Create a 3x4 array\n",
        "arr = np.arange(12).reshape(3, 4)\n",
        "print(\"Original array:\\n\", arr)\n",
        "\n",
        "# Trying to get the element at row 1, column 2\n",
        "element = arr(1, 2)\n",
        "\n",
        "# Trying to get the last column\n",
        "last_col = arr[:, 4]\n",
        "\n",
        "# Trying to reshape to a 2x6 array\n",
        "reshaped = arr.reshape(2, 7)\n",
        "\n",
        "# Trying to create a view with negative strides (reverse the array)\n",
        "reversed_arr = arr[::-1, ::-1]\n",
        "\n",
        "# Trying to extract elements greater than 5\n",
        "filtered = arr[arr > 5]\n",
        "\n",
        "# What's wrong with each operation? Fix the code to make it work correctly."
      ],
      "metadata": {
        "id": "N4NurYOwrdO8"
      },
      "execution_count": null,
      "outputs": []
    }
  ]
}