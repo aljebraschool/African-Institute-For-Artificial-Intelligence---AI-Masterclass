{
  "nbformat": 4,
  "nbformat_minor": 0,
  "metadata": {
    "colab": {
      "provenance": []
    },
    "kernelspec": {
      "name": "python3",
      "display_name": "Python 3"
    },
    "language_info": {
      "name": "python"
    }
  },
  "cells": [
    {
      "cell_type": "markdown",
      "source": [
        "# Interactive Exercise: Pandas Fundamentals\n",
        "This notebook contains interactive coding exercises on [topic] using:\n",
        "- Fill-in-the-blanks activities\n",
        "- Bite-sized challenges\n",
        "- Debugging exercises\n",
        "\n",
        "\n",
        "## How to use this notebook:\n",
        "1. Make a copy to your own Google Drive\n",
        "2. Fill in the blank sections marked with TODO comments\n",
        "3. Run each cell to test your solutions\n",
        "4. Complete the challenges at your own pace"
      ],
      "metadata": {
        "id": "hKKMFGgMufq8"
      }
    },
    {
      "cell_type": "markdown",
      "source": [
        "# Question 01: Creating and Exploring DataFrames\n",
        "## Here's how we can approach this with interactive elements:\n",
        "## Fill-in-the-Blanks Version:\n",
        "\n",
        "\n",
        "\n"
      ],
      "metadata": {
        "id": "obPt8Ig1qvSt"
      }
    },
    {
      "cell_type": "code",
      "source": [
        "#import Libraries\n",
        "import pandas as pd\n",
        "import numpy as np"
      ],
      "metadata": {
        "id": "KpQc6-hO02Em"
      },
      "execution_count": null,
      "outputs": []
    },
    {
      "cell_type": "code",
      "execution_count": null,
      "metadata": {
        "id": "FAaJJJpomutd"
      },
      "outputs": [],
      "source": [
        "# DATAFRAME CREATION EXERCISE\n",
        "# Goal: Create DataFrames and explore their properties\n",
        "\n",
        "# Create a DataFrame from a dictionary\n",
        "data = {\n",
        "    'Name': ['Alice', 'Bob', 'Charlie', 'David', 'Emma'],\n",
        "    'Age': [24, 27, 22, 32, 28],\n",
        "    'City': ['New York', 'Boston', 'Chicago', 'Seattle', 'Miami']\n",
        "}\n",
        "\n",
        "# Create the DataFrame\n",
        "df = pd._________(data)  # TODO: Use appropriate function to create DataFrame\n",
        "\n",
        "# Get basic information\n",
        "num_rows, num_cols = df._______  # TODO: Access property to get dimensions\n",
        "data_types = df._______  # TODO: Access property to get column data types\n",
        "\n",
        "# Basic DataFrame exploration\n",
        "first_three_rows = df._______(3)  # TODO: Method to get first 3 rows\n",
        "last_two_rows = df._______(2)  # TODO: Method to get last 2 rows\n",
        "summary_stats = df.________()  # TODO: Method to get statistical summary\n",
        "\n",
        "# Display information\n",
        "print(\"DataFrame:\")\n",
        "print(df)\n",
        "print(\"\\nDimensions (rows, columns):\", num_rows, num_cols)\n",
        "print(\"\\nData Types:\")\n",
        "print(data_types)\n",
        "print(\"\\nFirst 3 rows:\")\n",
        "print(first_three_rows)\n",
        "print(\"\\nLast 2 rows:\")\n",
        "print(last_two_rows)\n",
        "print(\"\\nSummary Statistics:\")\n",
        "print(summary_stats)"
      ]
    },
    {
      "cell_type": "markdown",
      "source": [
        "# Bite-Sized Challenge:"
      ],
      "metadata": {
        "id": "m5r8Cme1rSo6"
      }
    },
    {
      "cell_type": "code",
      "source": [
        "# CHALLENGE: Creating and exploring a DataFrame\n",
        "# 1. Create a DataFrame with columns 'Product', 'Price', and 'Quantity'\n",
        "#    Include at least 5 different products\n",
        "# 2. Add a new column 'Total' calculated as Price * Quantity\n",
        "# 3. Sort the DataFrame by 'Total' in descending order\n",
        "# 4. Find and print the product with the highest total value\n",
        "\n",
        "# Write your solution below:\n",
        "\n",
        "\n",
        "\n",
        "# BONUS CHALLENGE: Calculate and add a column 'Discount' with 10% off for products with Price > 50"
      ],
      "metadata": {
        "id": "gcEDQgowrUdc"
      },
      "execution_count": null,
      "outputs": []
    },
    {
      "cell_type": "markdown",
      "source": [
        "# Debugging Exercise:"
      ],
      "metadata": {
        "id": "hdXTssA5rcTt"
      }
    },
    {
      "cell_type": "code",
      "source": [
        "# DEBUG CHALLENGE: Fix the errors in this code that creates and explores a DataFrame\n",
        "\n",
        "# Create a sample dataset\n",
        "data = {\n",
        "    'Student': ['John', 'Sarah', 'Mike', 'Lisa', 'Tom'],\n",
        "    'Math': [85, 92, 78, 96, 81],\n",
        "    'Science': [92, 85, 88, 75, 93],\n",
        "    'English': [78, 95, 82, 90, 87]\n",
        "}\n",
        "\n",
        "# Create DataFrame\n",
        "df = pd.DataFrame(data)\n",
        "\n",
        "# Try to get information\n",
        "average_scores = df.avg()\n",
        "\n",
        "# Find the highest Math score\n",
        "highest_math = df.Math.maximum()\n",
        "\n",
        "# Select students with Science score above 90\n",
        "science_stars = df[df.Science > 90]\n",
        "\n",
        "# Calculate total score for each student\n",
        "df['Total Score'] = df['Math'] + df[Science] + df['English']\n",
        "\n",
        "# What's wrong with each operation? Fix the code to make it work correctly."
      ],
      "metadata": {
        "id": "N4NurYOwrdO8"
      },
      "execution_count": null,
      "outputs": []
    }
  ]
}