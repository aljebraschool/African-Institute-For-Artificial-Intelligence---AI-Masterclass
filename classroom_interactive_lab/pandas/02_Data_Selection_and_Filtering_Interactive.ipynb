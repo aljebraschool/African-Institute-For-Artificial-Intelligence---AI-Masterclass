{
  "nbformat": 4,
  "nbformat_minor": 0,
  "metadata": {
    "colab": {
      "provenance": []
    },
    "kernelspec": {
      "name": "python3",
      "display_name": "Python 3"
    },
    "language_info": {
      "name": "python"
    }
  },
  "cells": [
    {
      "cell_type": "markdown",
      "source": [
        "# Interactive Exercise: Pandas Fundamentals\n",
        "This notebook contains interactive coding exercises on [topic] using:\n",
        "- Fill-in-the-blanks activities\n",
        "- Bite-sized challenges\n",
        "- Debugging exercises\n",
        "\n",
        "\n",
        "## How to use this notebook:\n",
        "1. Make a copy to your own Google Drive\n",
        "2. Fill in the blank sections marked with TODO comments\n",
        "3. Run each cell to test your solutions\n",
        "4. Complete the challenges at your own pace"
      ],
      "metadata": {
        "id": "hKKMFGgMufq8"
      }
    },
    {
      "cell_type": "markdown",
      "source": [
        "# Question 02:Data Selection and Filtering\n",
        "## Here's how we can approach this with interactive elements:\n",
        "## Fill-in-the-Blanks Version:\n",
        "\n",
        "\n",
        "\n"
      ],
      "metadata": {
        "id": "obPt8Ig1qvSt"
      }
    },
    {
      "cell_type": "code",
      "source": [
        "#import Libraries\n",
        "import pandas as pd\n",
        "import numpy as np"
      ],
      "metadata": {
        "id": "RPApWYi306Wq"
      },
      "execution_count": null,
      "outputs": []
    },
    {
      "cell_type": "code",
      "execution_count": null,
      "metadata": {
        "id": "FAaJJJpomutd"
      },
      "outputs": [],
      "source": [
        "# DATA SELECTION AND FILTERING EXERCISE\n",
        "# Goal: Select and filter data from DataFrames\n",
        "\n",
        "# Create a sample DataFrame\n",
        "data = {\n",
        "    'Name': ['Alice', 'Bob', 'Charlie', 'David', 'Emma', 'Frank', 'Grace'],\n",
        "    'Age': [24, 27, 22, 32, 28, 45, 36],\n",
        "    'Department': ['HR', 'IT', 'Finance', 'IT', 'Marketing', 'Finance', 'HR'],\n",
        "    'Salary': [50000, 60000, 52000, 75000, 62000, 80000, 58000]\n",
        "}\n",
        "df = pd.DataFrame(data)\n",
        "print(\"Original DataFrame:\")\n",
        "print(df)\n",
        "\n",
        "# Select columns\n",
        "names_and_departments = df[[_____, _____]]  # TODO: Select 'Name' and 'Department' columns\n",
        "\n",
        "# Select rows by position\n",
        "third_and_fourth_rows = df.____[___:___, :]  # TODO: Use iloc to select rows 2 and 3\n",
        "\n",
        "# Select rows by condition\n",
        "it_staff = df[df['Department'] == _____]  # TODO: Filter for IT department\n",
        "high_earners = df[df['Salary'] _____ 60000]  # TODO: Filter for salary > 60000\n",
        "\n",
        "# Complex filtering (AND condition)\n",
        "young_high_earners = df[(df['Age'] < _____) & (df['Salary'] > _____)]  # TODO: Age < 30 and Salary > 55000\n",
        "\n",
        "# Complex filtering (OR condition)\n",
        "finance_or_hr = df[(df['Department'] == _____) | (df['Department'] == _____)]  # TODO: Finance OR HR departments\n",
        "\n",
        "print(\"\\nNames and Departments:\")\n",
        "print(names_and_departments)\n",
        "print(\"\\nThird and Fourth Rows:\")\n",
        "print(third_and_fourth_rows)\n",
        "print(\"\\nIT Staff:\")\n",
        "print(it_staff)\n",
        "print(\"\\nHigh Earners:\")\n",
        "print(high_earners)\n",
        "print(\"\\nYoung High Earners:\")\n",
        "print(young_high_earners)\n",
        "print(\"\\nFinance or HR Staff:\")\n",
        "print(finance_or_hr)"
      ]
    },
    {
      "cell_type": "markdown",
      "source": [
        "# Bite-Sized Challenge:"
      ],
      "metadata": {
        "id": "m5r8Cme1rSo6"
      }
    },
    {
      "cell_type": "code",
      "source": [
        "# CHALLENGE: Advanced data selection\n",
        "# Use the employee DataFrame from the previous exercise\n",
        "# 1. Select employees who are either:\n",
        "#    - In IT with salary > 65000, OR\n",
        "#    - In Finance with age < 30\n",
        "# 2. Create a new DataFrame with Name, Department, and a new column 'Experience Category'\n",
        "#    where: Age < 25 is 'Junior', 25-35 is 'Mid-level', >35 is 'Senior'\n",
        "# 3. Find the average salary by department\n",
        "\n",
        "# Write your solution below:\n",
        "\n",
        "\n",
        "\n",
        "# BONUS CHALLENGE: Create a pivot table showing average and maximum salary by department and experience category"
      ],
      "metadata": {
        "id": "gcEDQgowrUdc"
      },
      "execution_count": null,
      "outputs": []
    },
    {
      "cell_type": "markdown",
      "source": [
        "# Debugging Exercise:"
      ],
      "metadata": {
        "id": "hdXTssA5rcTt"
      }
    },
    {
      "cell_type": "code",
      "source": [
        "# DEBUG CHALLENGE: Fix the errors in this code for data selection and filtering\n",
        "\n",
        "# Create a sample DataFrame\n",
        "data = {\n",
        "    'Product': ['Laptop', 'Phone', 'Tablet', 'Monitor', 'Keyboard'],\n",
        "    'Price': [1200, 800, 300, 500, 100],\n",
        "    'Stock': [15, 25, 40, 10, 50],\n",
        "    'Category': ['Electronics', 'Electronics', 'Electronics', 'Computer', 'Computer']\n",
        "}\n",
        "df = pd.DataFrame(data)\n",
        "\n",
        "# Try to select products with price over 300\n",
        "expensive = df.where(df.Price > 300)\n",
        "\n",
        "# Try to select specific columns\n",
        "selected = df('Product', 'Price')\n",
        "\n",
        "# Try to find products with low stock\n",
        "low_stock = df[Stock < 20]\n",
        "\n",
        "# Try to find electronics with price under 1000\n",
        "affordable_electronics = df[df['Category'] = 'Electronics' and df['Price'] < 1000]\n",
        "\n",
        "# Try to sort by price\n",
        "sorted_df = df.sort('Price', descending=True)\n",
        "\n",
        "# What's wrong with each operation? Fix the code to make it work correctly."
      ],
      "metadata": {
        "id": "N4NurYOwrdO8"
      },
      "execution_count": null,
      "outputs": []
    }
  ]
}