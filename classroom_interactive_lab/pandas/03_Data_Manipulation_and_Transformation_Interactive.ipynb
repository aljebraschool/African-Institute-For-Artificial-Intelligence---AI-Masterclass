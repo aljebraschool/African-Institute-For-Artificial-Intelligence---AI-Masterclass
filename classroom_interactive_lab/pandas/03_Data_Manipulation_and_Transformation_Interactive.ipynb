{
  "nbformat": 4,
  "nbformat_minor": 0,
  "metadata": {
    "colab": {
      "provenance": []
    },
    "kernelspec": {
      "name": "python3",
      "display_name": "Python 3"
    },
    "language_info": {
      "name": "python"
    }
  },
  "cells": [
    {
      "cell_type": "markdown",
      "source": [
        "# Interactive Exercise: Pandas Fundamentals\n",
        "This notebook contains interactive coding exercises on [topic] using:\n",
        "- Fill-in-the-blanks activities\n",
        "- Bite-sized challenges\n",
        "- Debugging exercises\n",
        "\n",
        "\n",
        "## How to use this notebook:\n",
        "1. Make a copy to your own Google Drive\n",
        "2. Fill in the blank sections marked with TODO comments\n",
        "3. Run each cell to test your solutions\n",
        "4. Complete the challenges at your own pace"
      ],
      "metadata": {
        "id": "hKKMFGgMufq8"
      }
    },
    {
      "cell_type": "markdown",
      "source": [
        "# Question 03:Data Manipulation and Transformation\n",
        "## Here's how we can approach this with interactive elements:\n",
        "## Fill-in-the-Blanks Version:\n",
        "\n",
        "\n",
        "\n"
      ],
      "metadata": {
        "id": "obPt8Ig1qvSt"
      }
    },
    {
      "cell_type": "code",
      "source": [
        "#import Libraries\n",
        "import pandas as pd\n",
        "import numpy as np"
      ],
      "metadata": {
        "id": "RPApWYi306Wq"
      },
      "execution_count": null,
      "outputs": []
    },
    {
      "cell_type": "code",
      "execution_count": null,
      "metadata": {
        "id": "FAaJJJpomutd"
      },
      "outputs": [],
      "source": [
        "# DATA MANIPULATION EXERCISE\n",
        "# Goal: Transform and manipulate DataFrames\n",
        "\n",
        "# Create a sample DataFrame\n",
        "data = {\n",
        "    'Name': ['Alice', 'Bob', 'Charlie', 'David', 'Emma'],\n",
        "    'Score_1': [85, 92, 78, 96, 85],\n",
        "    'Score_2': [90, 88, 82, 78, 92]\n",
        "}\n",
        "df = pd.DataFrame(data)\n",
        "print(\"Original DataFrame:\")\n",
        "print(df)\n",
        "\n",
        "# Add a new column\n",
        "df['Average'] = (df['Score_1'] + df['Score_2']) / _____  # TODO: Divisor to calculate average\n",
        "\n",
        "# Apply a function to a column\n",
        "df['Grade'] = df['Average'].______(\n",
        "    lambda x: 'A' if x >= 90 else ('B' if x >= 80 else 'C')\n",
        ")  # TODO: Method to apply function to each value\n",
        "\n",
        "# Rename columns\n",
        "df = df.______(columns={'Score_1': 'Midterm', 'Score_2': 'Final'})  # TODO: Method to rename columns\n",
        "\n",
        "# Sort DataFrame\n",
        "df_sorted = df._______(by='Average', ascending=_____)  # TODO: Method to sort and direction\n",
        "\n",
        "# Reset index after sorting\n",
        "df_sorted = df_sorted.______()  # TODO: Method to reset index\n",
        "\n",
        "# Group by a column and calculate mean\n",
        "mean_by_grade = df.______('Grade').____()  # TODO: Methods to group and calculate mean\n",
        "\n",
        "print(\"\\nModified DataFrame:\")\n",
        "print(df)\n",
        "print(\"\\nSorted DataFrame:\")\n",
        "print(df_sorted)\n",
        "print(\"\\nMean by Grade:\")\n",
        "print(mean_by_grade)"
      ]
    },
    {
      "cell_type": "markdown",
      "source": [
        "# Bite-Sized Challenge:"
      ],
      "metadata": {
        "id": "m5r8Cme1rSo6"
      }
    },
    {
      "cell_type": "code",
      "source": [
        "# CHALLENGE: Data transformation\n",
        "# 1. Create a DataFrame with columns 'Date', 'Product', 'Units', and 'Price' (at least 10 rows)\n",
        "# 2. Convert 'Date' column to datetime type\n",
        "# 3. Add a 'Revenue' column (Units * Price)\n",
        "# 4. Add a 'Month' column extracted from the Date\n",
        "# 5. Group by Month and Product, then calculate total Revenue by month and product\n",
        "\n",
        "# Write your solution below:\n",
        "\n",
        "\n",
        "\n",
        "# BONUS CHALLENGE: Create a pivot table showing total revenue by Product (rows) and Month (columns)"
      ],
      "metadata": {
        "id": "gcEDQgowrUdc"
      },
      "execution_count": null,
      "outputs": []
    },
    {
      "cell_type": "markdown",
      "source": [
        "# Debugging Exercise:"
      ],
      "metadata": {
        "id": "hdXTssA5rcTt"
      }
    },
    {
      "cell_type": "code",
      "source": [
        "# DEBUG CHALLENGE: Fix the errors in this code for data manipulation\n",
        "\n",
        "# Create a sample DataFrame\n",
        "dates = pd.date_range('2023-01-01', periods=5)\n",
        "data = {\n",
        "    'Date': dates,\n",
        "    'Temperature': [32, 35, 28, 30, 33],\n",
        "    'Precipitation': [0, 0.2, 0.5, 0.1, 0]\n",
        "}\n",
        "df = pd.DataFrame(data)\n",
        "\n",
        "# Try to extract month\n",
        "df['Month'] = df.Date.months\n",
        "\n",
        "# Try to add a Weather column\n",
        "df.Weather = np.where(df['Precipitation'] > 0, 'Rainy', 'Sunny')\n",
        "\n",
        "# Try to group by month and calculate mean\n",
        "monthly_avg = df.groupby('Month').temperature.mean()\n",
        "\n",
        "# Try to create a new column using apply\n",
        "df['Temp_Category'] = df.apply(\n",
        "    if Temperature < 30:\n",
        "        return 'Cold'\n",
        "    else:\n",
        "        return 'Warm'\n",
        ")\n",
        "\n",
        "# Try to sort by Temperature in descending order\n",
        "sorted_df = df.sort('Temperature', ascending=False)\n",
        "\n",
        "# What's wrong with each operation? Fix the code to make it work correctly."
      ],
      "metadata": {
        "id": "N4NurYOwrdO8"
      },
      "execution_count": null,
      "outputs": []
    }
  ]
}