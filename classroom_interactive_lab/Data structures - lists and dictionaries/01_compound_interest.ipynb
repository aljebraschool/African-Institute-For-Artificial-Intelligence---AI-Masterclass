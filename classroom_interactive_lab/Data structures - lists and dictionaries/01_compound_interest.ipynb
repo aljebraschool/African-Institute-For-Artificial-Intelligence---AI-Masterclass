{
  "nbformat": 4,
  "nbformat_minor": 0,
  "metadata": {
    "colab": {
      "provenance": []
    },
    "kernelspec": {
      "name": "python3",
      "display_name": "Python 3"
    },
    "language_info": {
      "name": "python"
    }
  },
  "cells": [
    {
      "cell_type": "markdown",
      "source": [
        "# Example on List"
      ],
      "metadata": {
        "id": "0cfPU1Z2p5KW"
      }
    },
    {
      "cell_type": "markdown",
      "source": [
        "# Example on Dictionary"
      ],
      "metadata": {
        "id": "_AfPxXzcqEqd"
      }
    },
    {
      "cell_type": "markdown",
      "source": [
        "# Interactive Exercise: Data structure - List and Dictionary\n",
        "\n",
        "This notebook contains interactive coding exercises on [topic] using:\n",
        "- Fill-in-the-blanks activities\n",
        "- Bite-sized challenges\n",
        "- Debugging exercises\n",
        "\n",
        "\n",
        "## How to use this notebook:\n",
        "1. Make a copy to your own Google Drive\n",
        "2. Fill in the blank sections marked with TODO comments\n",
        "3. Run each cell to test your solutions\n",
        "4. Complete the challenges at your own pace"
      ],
      "metadata": {
        "id": "hKKMFGgMufq8"
      }
    },
    {
      "cell_type": "markdown",
      "source": [
        "# Question 01: Compound Interest\n",
        "## Here's how we can approach this with interactive elements:\n",
        "## Fill-in-the-Blanks Version:\n",
        "\n",
        "\n",
        "\n"
      ],
      "metadata": {
        "id": "obPt8Ig1qvSt"
      }
    },
    {
      "cell_type": "code",
      "execution_count": null,
      "metadata": {
        "id": "FAaJJJpomutd"
      },
      "outputs": [],
      "source": [
        "# COMPOUND INTEREST CALCULATOR\n",
        "# Goal: Calculate investment growth over time using the compound interest formula\n",
        "# Formula: a = p(1 + r)^n\n",
        "# Where:\n",
        "# a = final amount\n",
        "# p = principal (initial investment)\n",
        "# r = interest rate (as a decimal)\n",
        "# n = number of years\n",
        "\n",
        "def calculate_compound_interest():\n",
        "    # TODO: Set the initial investment amount\n",
        "    principal = ______  # Initial investment of $1000\n",
        "\n",
        "    # TODO: Set the annual interest rate (as a decimal)\n",
        "    rate = ______  # 7% annual return\n",
        "\n",
        "    # Calculate and display results for different time periods\n",
        "    print(\"Compound Interest Investment Growth Calculator\")\n",
        "    print(f\"Initial investment: ${principal}\")\n",
        "    print(f\"Annual interest rate: {rate*100}%\")\n",
        "    print(\"\\nInvestment value over time:\")\n",
        "\n",
        "    # TODO: Calculate the investment value after 10 years\n",
        "    years_10 = 10\n",
        "    amount_10 = principal * (1 + rate) ** ______\n",
        "    print(f\"After {years_10} years: ${amount_10:.2f}\")\n",
        "\n",
        "    # TODO: Calculate the investment value after 20 years\n",
        "    years_20 = ______\n",
        "    amount_20 = principal * (1 + rate) ** years_20\n",
        "    print(f\"After {years_20} years: ${amount_20:.2f}\")\n",
        "\n",
        "    # TODO: Calculate the investment value after 30 years\n",
        "    years_30 = ______\n",
        "    amount_30 = ______\n",
        "    print(f\"After {years_30} years: ${amount_30:.2f}\")\n",
        "\n",
        "    # BONUS: Calculate how many years it would take to double your money\n",
        "    # Hint: Use the Rule of 72 approximation (years to double ≈ 72 / (rate * 100))\n",
        "    years_to_double = ______\n",
        "    print(f\"\\nApproximate years to double your investment: {years_to_double:.1f}\")\n",
        "\n"
      ]
    },
    {
      "cell_type": "code",
      "source": [
        "# Run the calculator\n",
        "calculate_compound_interest()"
      ],
      "metadata": {
        "id": "RL9wz5NJzti9"
      },
      "execution_count": null,
      "outputs": []
    },
    {
      "cell_type": "markdown",
      "source": [
        "# Bite-Sized Challenge:"
      ],
      "metadata": {
        "id": "m5r8Cme1rSo6"
      }
    },
    {
      "cell_type": "code",
      "source": [
        "# BITE-SIZED CHALLENGE:\n",
        "# Modify the function to allow the user to input their own principal amount,\n",
        "# interest rate, and time periods. Use the input() function to get these values.\n",
        "# Write your solution below:"
      ],
      "metadata": {
        "id": "gcEDQgowrUdc"
      },
      "execution_count": null,
      "outputs": []
    },
    {
      "cell_type": "markdown",
      "source": [
        "# Debugging Exercise:"
      ],
      "metadata": {
        "id": "hdXTssA5rcTt"
      }
    },
    {
      "cell_type": "code",
      "source": [
        "# DEBUGGING EXERCISE:\n",
        "# The following function should calculate compound interest with monthly compounding\n",
        "# but contains errors. Can you identify and fix them?\n",
        "\n",
        "def buggy_monthly_compound():\n",
        "    print(\"\\nDEBUGGING EXERCISE: Monthly compounding\")\n",
        "    principal = 1000\n",
        "    annual_rate = 0.07\n",
        "    years = 10\n",
        "\n",
        "    # This should calculate monthly compounding\n",
        "    monthly_rate = annual_rate / 12\n",
        "    months = years * 12\n",
        "    amount = principal * (1 + monthly_rate * months)\n",
        "\n",
        "    print(f\"After {years} years with monthly compounding: ${amount:.2f}\")\n",
        "    # The result should be higher than with annual compounding!\n",
        "\n",
        "# Uncomment to test the buggy function\n",
        "# buggy_monthly_compound()\n",
        "\n",
        "# Think about:\n",
        "# 1. What's wrong with the compound interest formula used in the buggy function?\n",
        "# 2. How should monthly compounding actually be calculated?"
      ],
      "metadata": {
        "id": "N4NurYOwrdO8"
      },
      "execution_count": null,
      "outputs": []
    }
  ]
}