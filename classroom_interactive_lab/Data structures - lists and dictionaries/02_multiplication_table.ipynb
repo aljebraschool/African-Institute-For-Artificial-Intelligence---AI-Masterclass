{
  "nbformat": 4,
  "nbformat_minor": 0,
  "metadata": {
    "colab": {
      "provenance": []
    },
    "kernelspec": {
      "name": "python3",
      "display_name": "Python 3"
    },
    "language_info": {
      "name": "python"
    }
  },
  "cells": [
    {
      "cell_type": "markdown",
      "source": [
        "# Interactive Exercise: Data structure - List and Dictionary\n",
        "\n",
        "This notebook contains interactive coding exercises on [topic] using:\n",
        "- Fill-in-the-blanks activities\n",
        "- Bite-sized challenges\n",
        "- Debugging exercises\n",
        "\n",
        "\n",
        "## How to use this notebook:\n",
        "1. Make a copy to your own Google Drive\n",
        "2. Fill in the blank sections marked with TODO comments\n",
        "3. Run each cell to test your solutions\n",
        "4. Complete the challenges at your own pace"
      ],
      "metadata": {
        "id": "hKKMFGgMufq8"
      }
    },
    {
      "cell_type": "markdown",
      "source": [
        "# Question 02: Multiplication Table\n",
        "## Here's how we can approach this with interactive elements:\n",
        "## Fill-in-the-Blanks Version:\n",
        "\n",
        "\n",
        "\n"
      ],
      "metadata": {
        "id": "obPt8Ig1qvSt"
      }
    },
    {
      "cell_type": "code",
      "execution_count": null,
      "metadata": {
        "id": "FAaJJJpomutd"
      },
      "outputs": [],
      "source": [
        "# MULTIPLICATION TABLE GENERATOR\n",
        "# Goal: Create a program that generates a custom multiplication table based on user input\n",
        "\n",
        "def generate_multiplication_table():\n",
        "    # TODO: Get the dimensions from the user\n",
        "    rows = int(input(\"Enter the number of rows: \"))\n",
        "    columns = int(input(\"Enter the number of columns: \"))\n",
        "\n",
        "    print(f\"\\nGenerating a {rows}x{columns} multiplication table:\\n\")\n",
        "\n",
        "    # Method 1: Using nested loops to create the table\n",
        "    for i in range(1, rows + 1):\n",
        "        for j in range(1, ______):  # TODO: Complete the range for columns\n",
        "            # TODO: Calculate the product and print it with proper spacing\n",
        "            product = ______\n",
        "            print(f\"{product:4}\", end=\"\")  # The :4 ensures each number takes up 4 spaces\n",
        "        print()  # Move to the next line after each row\n",
        "\n",
        "    # ALTERNATIVE APPROACH: Using list comprehension and string formatting\n",
        "    print(\"\\nAlternative display method:\")\n",
        "\n",
        "    # TODO: Create and display the multiplication table using list comprehension\n",
        "    # Hint: You can create a list of strings for each row and then join them\n",
        "    table = [\n",
        "        \" \".join(f\"{i * j:4}\" for j in range(1, columns + 1))\n",
        "        for i in range(1, ______)\n",
        "    ]\n",
        "\n",
        "    # Print the table\n",
        "    for row in table:\n",
        "        print(row)\n",
        "\n"
      ]
    },
    {
      "cell_type": "markdown",
      "source": [
        "# Bite-Sized Challenge:"
      ],
      "metadata": {
        "id": "m5r8Cme1rSo6"
      }
    },
    {
      "cell_type": "code",
      "source": [
        "# BITE-SIZED CHALLENGE:\n",
        "# Modify the multiplication table to highlight even products by adding a '*' symbol\n",
        "# For example, if the product is 6, it should display as \"6*\" instead of \"6\"\n",
        "# Write your solution below:"
      ],
      "metadata": {
        "id": "gcEDQgowrUdc"
      },
      "execution_count": null,
      "outputs": []
    },
    {
      "cell_type": "markdown",
      "source": [
        "# Debugging Exercise:"
      ],
      "metadata": {
        "id": "hdXTssA5rcTt"
      }
    },
    {
      "cell_type": "code",
      "source": [
        "# DEBUGGING EXERCISE:\n",
        "# The following function should create a multiplication table but contains errors\n",
        "# Can you identify and fix them?\n",
        "\n",
        "def buggy_multiplication_table():\n",
        "    print(\"\\nDEBUGGING EXERCISE:\")\n",
        "    rows = 5\n",
        "    columns = 5\n",
        "\n",
        "    # This attempts to create a multiplication table\n",
        "    for i in range(rows):\n",
        "        for j in range(columns):\n",
        "            product = i * j\n",
        "            print(f\"{product:4}\", end=\"\")\n",
        "        print()\n",
        "\n",
        "# Uncomment to test the buggy function\n",
        "# buggy_multiplication_table()\n",
        "\n",
        "# Think about:\n",
        "# 1. What's wrong with the ranges used in the loops?\n",
        "# 2. Does the table start with the correct values?\n",
        "# 3. How would you fix the function to display a proper multiplication table?"
      ],
      "metadata": {
        "id": "N4NurYOwrdO8"
      },
      "execution_count": null,
      "outputs": []
    }
  ]
}