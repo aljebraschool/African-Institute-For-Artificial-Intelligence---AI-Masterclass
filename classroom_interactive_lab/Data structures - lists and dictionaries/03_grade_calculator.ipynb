{
  "nbformat": 4,
  "nbformat_minor": 0,
  "metadata": {
    "colab": {
      "provenance": []
    },
    "kernelspec": {
      "name": "python3",
      "display_name": "Python 3"
    },
    "language_info": {
      "name": "python"
    }
  },
  "cells": [
    {
      "cell_type": "markdown",
      "source": [
        "# Interactive Exercise: Data structure - List and Dictionary\n",
        "\n",
        "This notebook contains interactive coding exercises on [topic] using:\n",
        "- Fill-in-the-blanks activities\n",
        "- Bite-sized challenges\n",
        "- Debugging exercises\n",
        "\n",
        "\n",
        "## How to use this notebook:\n",
        "1. Make a copy to your own Google Drive\n",
        "2. Fill in the blank sections marked with TODO comments\n",
        "3. Run each cell to test your solutions\n",
        "4. Complete the challenges at your own pace"
      ],
      "metadata": {
        "id": "hKKMFGgMufq8"
      }
    },
    {
      "cell_type": "markdown",
      "source": [
        "# Question 03: Grade Calculator\n",
        "## Here's how we can approach this with interactive elements:\n",
        "## Fill-in-the-Blanks Version:\n",
        "\n",
        "\n",
        "\n"
      ],
      "metadata": {
        "id": "obPt8Ig1qvSt"
      }
    },
    {
      "cell_type": "code",
      "execution_count": null,
      "metadata": {
        "id": "FAaJJJpomutd"
      },
      "outputs": [],
      "source": [
        "# STUDENT GRADE CALCULATOR\n",
        "# Goal: Create a calculator to analyze student grades across multiple subjects\n",
        "\n",
        "def grade_calculator():\n",
        "    # Example grade book data - in a real app, this might come from user input or a file\n",
        "    grade_book = {\n",
        "        \"Alice\": {\"Math\": 85, \"Science\": 92, \"English\": 78},\n",
        "        \"Bob\": {\"Math\": 76, \"Science\": 88, \"English\": 94},\n",
        "        \"Charlie\": {\"Math\": 90, \"Science\": 91, \"English\": 85}\n",
        "    }\n",
        "\n",
        "    print(\"STUDENT GRADE CALCULATOR\")\n",
        "    print(\"=\" * 30)\n",
        "\n",
        "    # PART 1: Calculate and display total score for each student\n",
        "    print(\"\\n--- Total Scores ---\")\n",
        "\n",
        "    for student, scores in grade_book.items():\n",
        "        # TODO: Calculate the total score for this student\n",
        "        total_score = ______  # Sum of all subject scores\n",
        "        print(f\"{student}: {total_score}\")\n",
        "\n",
        "    # PART 2: Calculate and display average score for each student\n",
        "    print(\"\\n--- Student Averages ---\")\n",
        "\n",
        "    for student, scores in grade_book.items():\n",
        "        # TODO: Calculate the average score for this student\n",
        "        total_score = sum(scores.values())\n",
        "        num_subjects = ______  # Number of subjects the student has\n",
        "        average = total_score / num_subjects\n",
        "        print(f\"{student}: {average:.2f}\")\n",
        "\n",
        "    # PART 3: Calculate and display the class average\n",
        "    print(\"\\n--- Class Average ---\")\n",
        "\n",
        "    # TODO: Calculate the average score across all students and subjects\n",
        "    all_scores = []\n",
        "    for ______ in grade_book.values():\n",
        "        all_scores.extend(______.values())\n",
        "\n",
        "    class_average = sum(______) / len(______)\n",
        "    print(f\"Class Average: {class_average:.2f}\")\n",
        "\n",
        "    # BONUS: Display the highest scorer in each subject\n",
        "    print(\"\\n--- Subject Toppers ---\")\n",
        "\n",
        "    # Initialize a dictionary to track highest score and student for each subject\n",
        "    subjects = {\"Math\": {\"top_student\": \"\", \"top_score\": 0},\n",
        "                \"Science\": {\"top_student\": \"\", \"top_score\": 0},\n",
        "                \"English\": {\"top_student\": \"\", \"top_score\": 0}}\n",
        "\n",
        "    # TODO: Find the top scorer for each subject\n",
        "    for student, scores in grade_book.items():\n",
        "        for subject, score in scores.items():\n",
        "            if score > subjects[subject][\"top_score\"]:\n",
        "                subjects[subject][\"top_score\"] = ______\n",
        "                subjects[subject][\"top_student\"] = ______\n",
        "\n",
        "    # Display the results\n",
        "    for subject, data in subjects.items():\n",
        "        print(f\"{subject}: {data['top_student']} ({data['top_score']})\")\n",
        "\n"
      ]
    },
    {
      "cell_type": "code",
      "source": [
        "# Run the calculator\n",
        "grade_calculator()"
      ],
      "metadata": {
        "id": "BhqNR31K1cUJ"
      },
      "execution_count": null,
      "outputs": []
    },
    {
      "cell_type": "markdown",
      "source": [
        "# Bite-Sized Challenge:"
      ],
      "metadata": {
        "id": "m5r8Cme1rSo6"
      }
    },
    {
      "cell_type": "code",
      "source": [
        "# BITE-SIZED CHALLENGE:\n",
        "# Extend the grade calculator to also display:\n",
        "# 1. The student with the highest overall average\n",
        "# 2. The subject with the highest class average\n",
        "# Write your solution below:"
      ],
      "metadata": {
        "id": "gcEDQgowrUdc"
      },
      "execution_count": null,
      "outputs": []
    },
    {
      "cell_type": "markdown",
      "source": [
        "# Debugging Exercise:"
      ],
      "metadata": {
        "id": "hdXTssA5rcTt"
      }
    },
    {
      "cell_type": "code",
      "source": [
        "# DEBUGGING EXERCISE:\n",
        "# The following function attempts to add a new student to the grade book,\n",
        "# but it contains logical errors. Can you identify and fix them?\n",
        "\n",
        "def buggy_add_student(grade_book, name, math_score, science_score, english_score):\n",
        "    print(\"\\nDEBUGGING EXERCISE:\")\n",
        "    print(f\"Adding {name} to the grade book...\")\n",
        "\n",
        "    # Try to add a new student to the grade book\n",
        "    grade_book[name] = []\n",
        "    grade_book[name][\"Math\"] = math_score\n",
        "    grade_book[name][\"Science\"] = science_score\n",
        "    grade_book[name][\"English\"] = english_score\n",
        "\n",
        "    print(\"Updated grade book:\")\n",
        "    print(grade_book)\n",
        "    return grade_book\n",
        "\n",
        "# Uncomment to test the buggy function\n",
        "# test_grade_book = {\n",
        "#     \"Alice\": {\"Math\": 85, \"Science\": 92, \"English\": 78}\n",
        "# }\n",
        "# buggy_add_student(test_grade_book, \"David\", 88, 76, 92)\n",
        "\n",
        "# Think about:\n",
        "# 1. What's wrong with how we're adding a new student to the dictionary?\n",
        "# 2. How should we properly structure the new student's data?"
      ],
      "metadata": {
        "id": "N4NurYOwrdO8"
      },
      "execution_count": null,
      "outputs": []
    }
  ]
}