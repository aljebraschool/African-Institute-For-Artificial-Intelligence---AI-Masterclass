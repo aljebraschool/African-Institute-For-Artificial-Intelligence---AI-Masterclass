{
  "nbformat": 4,
  "nbformat_minor": 0,
  "metadata": {
    "colab": {
      "provenance": []
    },
    "kernelspec": {
      "name": "python3",
      "display_name": "Python 3"
    },
    "language_info": {
      "name": "python"
    }
  },
  "cells": [
    {
      "cell_type": "markdown",
      "source": [
        "# Interactive Exercise: Control Statement\n",
        "\n",
        "This notebook contains interactive coding exercises on [topic] using:\n",
        "- Fill-in-the-blanks activities\n",
        "- Bite-sized challenges\n",
        "- Debugging exercises\n",
        "\n",
        "\n",
        "## How to use this notebook:\n",
        "1. Make a copy to your own Google Drive\n",
        "2. Fill in the blank sections marked with TODO comments\n",
        "3. Run each cell to test your solutions\n",
        "4. Complete the challenges at your own pace"
      ],
      "metadata": {
        "id": "hKKMFGgMufq8"
      }
    },
    {
      "cell_type": "markdown",
      "source": [
        "# Question 03: Calculate Minimum\n",
        "## Here's how we can approach this with interactive elements:\n",
        "## Fill-in-the-Blanks Version:\n",
        "\n",
        "\n",
        "\n"
      ],
      "metadata": {
        "id": "obPt8Ig1qvSt"
      }
    },
    {
      "cell_type": "code",
      "execution_count": null,
      "metadata": {
        "id": "FAaJJJpomutd"
      },
      "outputs": [],
      "source": [
        "# MINIMUM CALCULATOR\n",
        "# Goal: Build a calculator to find the minimum of three digits\n",
        "\n",
        "def find_minimum():\n",
        "    # TODO: Get three digits from the user\n",
        "    print(\"Enter three digits:\")\n",
        "\n",
        "    # Method 1: Using input() and min() function\n",
        "    num1 = int(input(\"Enter first digit: \"))\n",
        "    num2 = int(input(\"Enter second digit: \"))\n",
        "    num3 = ______  # TODO: Get the third digit from user\n",
        "\n",
        "    # Find minimum using built-in min() function\n",
        "    minimum = min(_____, _____, _____)  # TODO: Pass all three numbers to min()\n",
        "    print(f\"The minimum digit is: {minimum}\")\n",
        "\n",
        "    # Method 2: Using if-else statements\n",
        "    # TODO: Complete this method to find the minimum without using min()\n",
        "    if ______:  # TODO: Check if num1 is smallest\n",
        "        calculated_min = num1\n",
        "    elif ______:  # TODO: Check if num2 is smallest\n",
        "        calculated_min = num2\n",
        "    else:\n",
        "        calculated_min = num3\n",
        "\n",
        "    print(f\"Minimum calculated with if-else: {calculated_min}\")\n",
        ""
      ]
    },
    {
      "cell_type": "markdown",
      "source": [
        "# Bite-Sized Challenge:"
      ],
      "metadata": {
        "id": "TOg9hxe1xSUa"
      }
    },
    {
      "cell_type": "code",
      "source": [
        "# CHALLENGE: Write a new function that can find the minimum of any number of digits\n",
        "    # Hint: Use a list and a loop\n",
        "\n",
        "# BONUS CHALLENGE:\n",
        "# Write a function that returns both the minimum AND maximum of the three digits"
      ],
      "metadata": {
        "id": "gcEDQgowrUdc"
      },
      "execution_count": null,
      "outputs": []
    },
    {
      "cell_type": "markdown",
      "source": [
        "# Debugging Exercise:"
      ],
      "metadata": {
        "id": "hdXTssA5rcTt"
      }
    },
    {
      "cell_type": "code",
      "source": [
        "# DEBUG CHALLENGE:\n",
        "# The following code should find the minimum digit, but it contains errors\n",
        "# Can you identify and fix them?\n",
        "\n",
        "def buggy_find_minimum():\n",
        "    print(\"DEBUG CHALLENGE:\")\n",
        "    a = input(\"Enter first digit: \")\n",
        "    b = input(\"Enter second digit: \")\n",
        "    c = input(\"Enter third digit: \")\n",
        "\n",
        "    if a < b and a < c:\n",
        "        min_digit = a\n",
        "    if b < a and b < c:\n",
        "        min_digit = b\n",
        "    if c < a and c < b:\n",
        "        min_digit = c\n",
        "\n",
        "    print(f\"The minimum digit is: {min_digit}\")\n",
        "\n",
        "# Uncomment to test the buggy function\n",
        "# buggy_find_minimum()"
      ],
      "metadata": {
        "id": "N4NurYOwrdO8"
      },
      "execution_count": null,
      "outputs": []
    },
    {
      "cell_type": "code",
      "source": [],
      "metadata": {
        "id": "W1RXffJYweg4"
      },
      "execution_count": null,
      "outputs": []
    }
  ]
}