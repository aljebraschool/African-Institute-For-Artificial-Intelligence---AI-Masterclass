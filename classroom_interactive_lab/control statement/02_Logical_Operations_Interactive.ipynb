{
  "nbformat": 4,
  "nbformat_minor": 0,
  "metadata": {
    "colab": {
      "provenance": []
    },
    "kernelspec": {
      "name": "python3",
      "display_name": "Python 3"
    },
    "language_info": {
      "name": "python"
    }
  },
  "cells": [
    {
      "cell_type": "markdown",
      "source": [
        "# Interactive Exercise: Control Statement\n",
        "\n",
        "This notebook contains interactive coding exercises on [topic] using:\n",
        "- Fill-in-the-blanks activities\n",
        "- Bite-sized challenges\n",
        "- Debugging exercises\n",
        "\n",
        "\n",
        "## How to use this notebook:\n",
        "1. Make a copy to your own Google Drive\n",
        "2. Fill in the blank sections marked with TODO comments\n",
        "3. Run each cell to test your solutions\n",
        "4. Complete the challenges at your own pace"
      ],
      "metadata": {
        "id": "hKKMFGgMufq8"
      }
    },
    {
      "cell_type": "markdown",
      "source": [
        "# Question 02: Logical Operations\n",
        "## Here's how we can approach this with interactive elements:\n",
        "## Fill-in-the-Blanks Version:\n",
        "\n",
        "\n",
        "\n",
        "\n"
      ],
      "metadata": {
        "id": "obPt8Ig1qvSt"
      }
    },
    {
      "cell_type": "code",
      "execution_count": null,
      "metadata": {
        "id": "FAaJJJpomutd"
      },
      "outputs": [],
      "source": [
        "# LOGICAL OPERATIONS PROGRAM\n",
        "# This program will compare two numbers using various logical operations\n",
        "\n",
        "def logical_operations():\n",
        "    # TODO: Get two numbers from the user\n",
        "    num1 = float(input(\"Enter the first number: \"))\n",
        "    num2 = float(input(\"Enter the second number: \"))\n",
        "\n",
        "    # TODO: Implement the comparisons\n",
        "    print(\"\\n--- COMPARISON RESULTS ---\")\n",
        "\n",
        "    # Greater than\n",
        "    result_greater = num1 > num2\n",
        "    print(f\"{num1} > {num2}: {result_greater}\")\n",
        "\n",
        "    # Less than\n",
        "    result_less = ______  # TODO: Fill in the correct comparison\n",
        "    print(f\"{num1} < {num2}: {result_less}\")\n",
        "\n",
        "    # Greater than or equal to\n",
        "    result_greater_equal = ______  # TODO: Fill in the correct comparison\n",
        "    print(f\"{num1} >= {num2}: {result_greater_equal}\")\n",
        "\n",
        "    # Less than or equal to\n",
        "    result_less_equal = ______  # TODO: Fill in the correct comparison\n",
        "    print(f\"{num1} <= {num2}: {result_less_equal}\")\n",
        "\n",
        "    # Equal to\n",
        "    result_equal = ______  # TODO: Fill in the correct comparison\n",
        "    print(f\"{num1} == {num2}: {result_equal}\")\n",
        "\n",
        "    # Not equal to\n",
        "    result_not_equal = ______  # TODO: Fill in the correct comparison\n",
        "    print(f\"{num1} != {num2}: {result_not_equal}\")\n",
        "\n",
        "    # CHALLENGE: Calculate if both numbers are positive\n",
        "    both_positive = ______  # TODO: Use logical AND to check if both are > 0\n",
        "    print(f\"Both numbers are positive: {both_positive}\")\n",
        "\n",
        "    # CHALLENGE: Calculate if at least one number is negative\n",
        "    any_negative = ______  # TODO: Use logical OR to check if either is < 0\n",
        "    print(f\"At least one number is negative: {any_negative}\")\n",
        "\n"
      ]
    },
    {
      "cell_type": "code",
      "source": [
        "# Run the program\n",
        "logical_operations()"
      ],
      "metadata": {
        "id": "gcEDQgowrUdc"
      },
      "execution_count": null,
      "outputs": []
    },
    {
      "cell_type": "markdown",
      "source": [
        "# Debugging Exercise:"
      ],
      "metadata": {
        "id": "hdXTssA5rcTt"
      }
    },
    {
      "cell_type": "code",
      "source": [
        "# DEBUG CHALLENGE:\n",
        "# The following code should check if num1 is between 0 and 10 (inclusive)\n",
        "# But it has a logical error. Can you fix it?\n",
        "\n",
        "def debug_challenge(num1):\n",
        "    is_in_range = num1 > 0 or num1 < 10\n",
        "    print(f\"Is {num1} between 0 and 10 (inclusive)? {is_in_range}\")\n",
        "    # This will give wrong results! Why?\n",
        "\n",
        "# Test with a number that should return True (e.g., 5)\n",
        "debug_challenge(5)\n",
        "# Test with a number that should return False (e.g., 15)\n",
        "debug_challenge(15)"
      ],
      "metadata": {
        "id": "N4NurYOwrdO8"
      },
      "execution_count": 2,
      "outputs": []
    },
    {
      "cell_type": "code",
      "source": [],
      "metadata": {
        "id": "W1RXffJYweg4"
      },
      "execution_count": null,
      "outputs": []
    }
  ]
}