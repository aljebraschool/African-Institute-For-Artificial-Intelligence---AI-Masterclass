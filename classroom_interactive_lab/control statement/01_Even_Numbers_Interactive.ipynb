{
  "nbformat": 4,
  "nbformat_minor": 0,
  "metadata": {
    "colab": {
      "provenance": []
    },
    "kernelspec": {
      "name": "python3",
      "display_name": "Python 3"
    },
    "language_info": {
      "name": "python"
    }
  },
  "cells": [
    {
      "cell_type": "markdown",
      "source": [
        "# Example on if else statement"
      ],
      "metadata": {
        "id": "0cfPU1Z2p5KW"
      }
    },
    {
      "cell_type": "markdown",
      "source": [
        "# Example on if/elif/else statement"
      ],
      "metadata": {
        "id": "_AfPxXzcqEqd"
      }
    },
    {
      "cell_type": "markdown",
      "source": [
        "# Example on for loop"
      ],
      "metadata": {
        "id": "2rNW9YY-qMuS"
      }
    },
    {
      "cell_type": "markdown",
      "source": [
        "# Example on While loop"
      ],
      "metadata": {
        "id": "7x-QSTrdqQIS"
      }
    },
    {
      "cell_type": "markdown",
      "source": [
        "# Interactive Exercise: Control Statement\n",
        "\n",
        "This notebook contains interactive coding exercises on [topic] using:\n",
        "- Fill-in-the-blanks activities\n",
        "- Bite-sized challenges\n",
        "- Debugging exercises\n",
        "\n",
        "\n",
        "## How to use this notebook:\n",
        "1. Make a copy to your own Google Drive\n",
        "2. Fill in the blank sections marked with TODO comments\n",
        "3. Run each cell to test your solutions\n",
        "4. Complete the challenges at your own pace"
      ],
      "metadata": {
        "id": "hKKMFGgMufq8"
      }
    },
    {
      "cell_type": "markdown",
      "source": [
        "# Question 01: Even Numbers\n",
        "## Here's how we can approach this with interactive elements:\n",
        "## Fill-in-the-Blanks Version:\n",
        "\n",
        "\n",
        "\n"
      ],
      "metadata": {
        "id": "obPt8Ig1qvSt"
      }
    },
    {
      "cell_type": "code",
      "execution_count": null,
      "metadata": {
        "id": "FAaJJJpomutd"
      },
      "outputs": [],
      "source": [
        "# EVEN NUMBERS EXERCISE\n",
        "# Goal: Print the first 10 even numbers (starting from 2)\n",
        "\n",
        "# Method 1: Using a counter and a while loop\n",
        "count = 0\n",
        "num = 0\n",
        "\n",
        "while count < ______:  # TODO: How many numbers do we need?\n",
        "    num += ______      # TODO: How do we get to the next even number?\n",
        "    print(num)\n",
        "    count += 1\n",
        "\n",
        "# Method 2: Using a for loop with range\n",
        "print(\"\\nAlternative solution:\")\n",
        "for i in range(_____, _____, _____):  # TODO: Fill in start, stop, step values\n",
        "    print(i)"
      ]
    },
    {
      "cell_type": "markdown",
      "source": [
        "# Bite-Sized Challenge:"
      ],
      "metadata": {
        "id": "m5r8Cme1rSo6"
      }
    },
    {
      "cell_type": "code",
      "source": [
        "# CHALLENGE: Modify the code to print the first 10 even numbers in descending order\n",
        "# Start from 20 and go down to 2\n",
        "# Write your solution below:\n",
        "\n",
        "\n",
        "# BONUS CHALLENGE: Print the even numbers with a message like \"Even number #1: 2\""
      ],
      "metadata": {
        "id": "gcEDQgowrUdc"
      },
      "execution_count": null,
      "outputs": []
    },
    {
      "cell_type": "markdown",
      "source": [
        "# Debugging Exercise:"
      ],
      "metadata": {
        "id": "hdXTssA5rcTt"
      }
    },
    {
      "cell_type": "code",
      "source": [
        "# DEBUG CHALLENGE: Fix the errors in this code that should print the first 10 even numbers\n",
        "\n",
        "count = 0\n",
        "num = 0\n",
        "\n",
        "while count <= 10:\n",
        "    print(num)\n",
        "    num = num + 1\n",
        "    count += 1\n",
        "\n",
        "# What's wrong with this code? How should it be fixed?"
      ],
      "metadata": {
        "id": "N4NurYOwrdO8"
      },
      "execution_count": null,
      "outputs": []
    }
  ]
}