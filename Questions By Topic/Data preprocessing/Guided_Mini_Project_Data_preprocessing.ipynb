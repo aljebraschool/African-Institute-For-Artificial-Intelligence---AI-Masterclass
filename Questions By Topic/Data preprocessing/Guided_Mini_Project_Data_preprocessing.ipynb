{
  "nbformat": 4,
  "nbformat_minor": 0,
  "metadata": {
    "colab": {
      "provenance": []
    },
    "kernelspec": {
      "name": "python3",
      "display_name": "Python 3"
    },
    "language_info": {
      "name": "python"
    }
  },
  "cells": [
    {
      "cell_type": "code",
      "execution_count": null,
      "metadata": {
        "id": "Na-lzVC3KBT1"
      },
      "outputs": [],
      "source": [
        "Guided Mini-Project\n",
        "import pandas as pd\n",
        "import numpy as np\n",
        "from sklearn.model_selection import train_test_split\n",
        "# [Data loading code]\n",
        "\n",
        "# Task 1: Explore the data\n",
        "# - How many missing values are in each column?\n",
        "# - Which features are categorical vs. numerical?\n",
        "# - Are there any outliers in the numerical features?\n",
        "\n",
        "# Task 2: Handle missing values\n",
        "# - Choose and justify appropriate imputation techniques for each column\n",
        "\n",
        "# Task 3: Handle categorical features\n",
        "# - Encode categorical features appropriately\n",
        "\n",
        "# Task 4: Scale numerical features\n",
        "# - Choose and apply appropriate scaling methods\n"
      ]
    },
    {
      "cell_type": "markdown",
      "source": [
        "# Dataset 1\n",
        "\n",
        "[Airbnb New User Bookings](https://www.kaggle.com/c/airbnb-recruiting-new-user-bookings)\n"
      ],
      "metadata": {
        "id": "sxKsdf5uKc4R"
      }
    },
    {
      "cell_type": "markdown",
      "source": [
        "# Dataset 2\n",
        "\n",
        "[Adult Census Income](https://archive.ics.uci.edu/dataset/2/adult)\n"
      ],
      "metadata": {
        "id": "jORnBBFdK4wZ"
      }
    },
    {
      "cell_type": "markdown",
      "source": [
        "# Dataset 2\n",
        "\n",
        "[New York City Taxi Trip Duration](https://www.kaggle.com/c/nyc-taxi-trip-duration/data?select=sample_submission.zip)\n"
      ],
      "metadata": {
        "id": "BWUZ_iDiLN12"
      }
    }
  ]
}