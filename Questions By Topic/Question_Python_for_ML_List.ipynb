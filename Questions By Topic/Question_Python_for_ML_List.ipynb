{
  "nbformat": 4,
  "nbformat_minor": 0,
  "metadata": {
    "colab": {
      "provenance": []
    },
    "kernelspec": {
      "name": "python3",
      "display_name": "Python 3"
    },
    "language_info": {
      "name": "python"
    }
  },
  "cells": [
    {
      "cell_type": "markdown",
      "source": [
        "## Python for ML- List (Practice Questions and Solutions)"
      ],
      "metadata": {
        "id": "X182hPkbgEmu"
      }
    },
    {
      "cell_type": "markdown",
      "source": [
        "Question 1: create a string called alphabet containg 'abcdefgh...z', then perform the following separate slice operations to obtain:\n",
        "\n",
        "\n",
        "\n",
        "```\n",
        "1. The first half of the string using starting and ending indices\n",
        "2. The first half of the string using only the ending index\n",
        "3. The second half of the string using starting and ending indices\n",
        "4. The second half of the string using only the starting index\n",
        "5. Every second letter in the string starting with 'a'\n",
        "6. The entire string in reverse\n",
        "7. Every third letter of the string in reverse starting with 'z'\n",
        "\n",
        "```\n",
        "\n"
      ],
      "metadata": {
        "id": "WXREReQrgLW-"
      }
    },
    {
      "cell_type": "markdown",
      "source": [
        "Question 2: Given a two-dimensional list a below, write a program to print out each element of the list in the format \"a[row][column] = item\"\n",
        "Hint: use enumerate to access both the index and values of the array instead of accessing only it index\n",
        "\n",
        "\n",
        "\n",
        "```\n",
        "a = [[77, 68, 23, 89],\n",
        "     [10, 23, 87, 99],\n",
        "     [20, 34, 76, 97]]\n",
        "\n",
        "```\n",
        "\n"
      ],
      "metadata": {
        "id": "91x6OkoVni96"
      }
    }
  ]
}