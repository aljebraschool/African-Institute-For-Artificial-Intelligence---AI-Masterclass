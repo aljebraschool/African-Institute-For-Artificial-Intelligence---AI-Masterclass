{
  "nbformat": 4,
  "nbformat_minor": 0,
  "metadata": {
    "colab": {
      "provenance": []
    },
    "kernelspec": {
      "name": "python3",
      "display_name": "Python 3"
    },
    "language_info": {
      "name": "python"
    }
  },
  "cells": [
    {
      "cell_type": "markdown",
      "source": [
        "Question 1: Given the following grades scale write a program that will inform student of the status of their score in accordance with given grade scale\n",
        "\n",
        "\n",
        "\n",
        "```\n",
        "grade 90 and above is A\n",
        "\n",
        "grade greater than 80 but less than 90 is B\n",
        "\n",
        "grade greater than 70 but less than 80 is C\n",
        "\n",
        "grade greater than 60 but less than 70 is D\n",
        "\n",
        "grede greater than 50 but less than 60 is E\n",
        "\n",
        "grades less than 50 is F - failure\n",
        "```"
      ],
      "metadata": {
        "id": "Ftz2PqZEc2Tp"
      }
    },
    {
      "cell_type": "markdown",
      "source": [
        "Question 2: Write a script that calculates the squares and cubes of the number from 0 and 5. Print the resulting values in table format, as shown below.Use the tab escape sequence to achieve the three-column output\n",
        "\n",
        "\n",
        "\n",
        "```\n",
        "number\t square\t cube\n",
        "     0       0       0\n",
        "     1       1       1\n",
        "     2       4       8\n",
        "     3       9      27\n",
        "     4      16      64\n",
        "     5      25     125\n",
        "\n",
        "```\n",
        "\n"
      ],
      "metadata": {
        "id": "m3mMcwtBiH0H"
      }
    },
    {
      "cell_type": "markdown",
      "source": [
        "Question 3: Factorial of a non-negative number is gotten by multiplying the number by itself while it decreases, for example, factorial of 3 is 3 x 4 x 2 x 1. Factorial of 0 is 1. Given a number, build a calculator than can be used to find the factorial of that given number."
      ],
      "metadata": {
        "id": "G48mDrsknjLd"
      }
    }
  ]
}
