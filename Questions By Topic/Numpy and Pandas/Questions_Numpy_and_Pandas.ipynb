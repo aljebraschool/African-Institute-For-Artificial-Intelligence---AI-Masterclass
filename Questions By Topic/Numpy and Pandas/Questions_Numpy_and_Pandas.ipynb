{
  "nbformat": 4,
  "nbformat_minor": 0,
  "metadata": {
    "colab": {
      "provenance": []
    },
    "kernelspec": {
      "name": "python3",
      "display_name": "Python 3"
    },
    "language_info": {
      "name": "python"
    }
  },
  "cells": [
    {
      "cell_type": "markdown",
      "source": [
        "### Question 1: use arange to create a 2-by-2 array containing the numbers 0–3. Use broadcasting to perform each of the following operations on the original array:\n",
        "\n",
        "\n",
        "```\n",
        "a) Cube every element of the array.\n",
        "b) Add 7 to every element of the array.\n",
        "c) Multiply every element of the array by 2.\n",
        "\n",
        "```\n",
        "\n"
      ],
      "metadata": {
        "id": "o7XHv-LflTTw"
      }
    },
    {
      "cell_type": "markdown",
      "source": [
        "### Question 2: Create a 3-by-3 array containing the even integers from 2 through 18. Create a second 3-by-3 array containing the integers from 9 down to 1, then multiply the first array by the second."
      ],
      "metadata": {
        "id": "8DSDhdwfpZJH"
      }
    },
    {
      "cell_type": "markdown",
      "source": [
        "### Question 3: Create an array containing the values 1–15, reshape it into a 3-by-5 array, then use indexing and slicing techniques to perform each of the following operations:\n",
        "\n",
        "\n",
        "\n",
        "```\n",
        "a) Select row 2.\n",
        "b) Select column 5.\n",
        "c) Select rows 0 and 1.\n",
        "d) Select columns 2–4.\n",
        "e) Select the element that is in row 1 and column 4.\n",
        "f) Select all elements from rows 1 and 2 that are in columns 0, 2 and 4.\n",
        "\n",
        "```\n",
        "\n"
      ],
      "metadata": {
        "id": "br0-hcyosdBT"
      }
    },
    {
      "cell_type": "markdown",
      "source": [
        "### Question 4: Perform the following tasks with pandas Series:\n",
        "\n",
        "\n",
        "\n",
        "```\n",
        "a) Create a Series from the list [7, 11, 13, 17].\n",
        "b) Create a Series with five elements that are all 100.0.\n",
        "c) Create a Series with 20 elements that are all random numbers in the range 0 to 100. Use method describe to produce the Series’ basic descriptive statistics.\n",
        "```\n",
        "\n"
      ],
      "metadata": {
        "id": "G3Fxr1tBxOpl"
      }
    },
    {
      "cell_type": "markdown",
      "source": [
        "### Question 5: Perform the following tasks with pandas DataFrames:\n",
        "\n",
        "\n",
        "\n",
        "```\n",
        "a) Create a DataFrame named temperatures from a dictionary of three temperature readings each for 'Maxine', 'James' and 'Amanda'.\n",
        "b) Recreate the DataFrame temperatures in Part (a) with custom indices using\n",
        "the index keyword argument and a list containing 'Morning', 'Afternoon'\n",
        "and 'Evening'.\n",
        "c) Select from temperatures the column of temperature readings for 'Maxine'.\n",
        "d) Select from temperatures the row of 'Morning' temperature readings.\n",
        "e) Select from temperatures the rows for 'Morning' and 'Evening' temperature\n",
        "readings.\n",
        "\n",
        "f) Use the describe method to produce temperatures’ descriptive statistics.\n",
        "\n",
        "\n",
        "```\n",
        "\n"
      ],
      "metadata": {
        "id": "yBy2gpDtzhry"
      }
    }
  ]
}