{
  "nbformat": 4,
  "nbformat_minor": 0,
  "metadata": {
    "colab": {
      "provenance": []
    },
    "kernelspec": {
      "name": "python3",
      "display_name": "Python 3"
    },
    "language_info": {
      "name": "python"
    }
  },
  "cells": [
    {
      "cell_type": "markdown",
      "source": [
        "## Python for ML- Variables and Data types (Practice Questions)"
      ],
      "metadata": {
        "id": "Lw0M9Owoyghp"
      }
    },
    {
      "cell_type": "markdown",
      "source": [
        "Question 1: For a circle of radius 2, display the diameter, circumference and area. Use the value 3.14159 for pie,\n",
        "\n",
        "\n",
        "\n",
        "```\n",
        "# input parameters\n",
        "\n",
        "radius = r\n",
        "diameter = 2 * r\n",
        "formula\n",
        "circumference = 2 * pie * r\n",
        "area = pie * r ^ 2\n",
        "```\n",
        "\n",
        "\n",
        "\n"
      ],
      "metadata": {
        "id": "VMODvWb__C_0"
      }
    },
    {
      "cell_type": "markdown",
      "source": [
        "Question 2: Write a script that inputs three integers from the user. Display the sum, average and product\n"
      ],
      "metadata": {
        "id": "uTInzRSV--uz"
      }
    },
    {
      "cell_type": "markdown",
      "source": [
        "Question 3: Some investment advisors say that it's reasonable to expect a 7% return over the long term in the stock market.\n",
        "Assumming that you begin with $1000 and leave your money invested, calculate and display how much you'll have after 10, 20, and 30 years\n",
        "\n",
        "Use the following formula : a = p(1 + r)^n\n"
      ],
      "metadata": {
        "id": "wUN0r3NF-0tW"
      }
    }
  ]
}