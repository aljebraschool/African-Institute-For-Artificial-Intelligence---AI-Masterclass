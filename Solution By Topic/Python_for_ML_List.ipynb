{
  "nbformat": 4,
  "nbformat_minor": 0,
  "metadata": {
    "colab": {
      "provenance": []
    },
    "kernelspec": {
      "name": "python3",
      "display_name": "Python 3"
    },
    "language_info": {
      "name": "python"
    }
  },
  "cells": [
    {
      "cell_type": "markdown",
      "source": [
        "## Python for ML- List (Practice Questions and Solutions)"
      ],
      "metadata": {
        "id": "X182hPkbgEmu"
      }
    },
    {
      "cell_type": "markdown",
      "source": [
        "Question 1: create a string called alphabet containg 'abcdefgh...z', then perform the following separate slice operations to obtain:\n",
        "\n",
        "\n",
        "\n",
        "```\n",
        "1. The first half of the string using starting and ending indices\n",
        "2. The first half of the string using only the ending index\n",
        "3. The second half of the string using starting and ending indices\n",
        "4. The second half of the string using only the starting index\n",
        "5. Every second letter in the string starting with 'a'\n",
        "6. The entire string in reverse\n",
        "7. Every third letter of the string in reverse starting with 'z'\n",
        "\n",
        "```\n",
        "\n"
      ],
      "metadata": {
        "id": "WXREReQrgLW-"
      }
    },
    {
      "cell_type": "code",
      "execution_count": null,
      "metadata": {
        "id": "ZNAUErH2UftS",
        "colab": {
          "base_uri": "https://localhost:8080/"
        },
        "outputId": "0510d72f-513a-434a-c7a9-eba1e268206b"
      },
      "outputs": [
        {
          "output_type": "stream",
          "name": "stdout",
          "text": [
            "The first half of string using start and end indices: abcdefghijklmn\n",
            "The first half of the string using only the ending index: abcdefghijklmn\n",
            "The second half of the string using starting and ending indices: nopqrstuvwxyz\n",
            "The second half of the string using only the starting index: nopqrstuvwxyz\n",
            "Every second letter in the string starting with 'a': acegikmoqsuwy\n",
            "The entire string in reverse: zyxwvutsrqponmlkjihgfedcba\n",
            "Every third letter of the string in reverse starting with 'z': zwtqnkheb\n"
          ]
        }
      ],
      "source": [
        "my_list = 'abcdefghijklmnopqrstuvwxyz'\n",
        "\n",
        "#1.The first half of the string using starting and ending indices\n",
        "value = my_list[0:14]\n",
        "print(f'The first half of string using start and end indices: {value}')\n",
        "\n",
        "\n",
        "#2.The first half of the string using only the ending index\n",
        "value = my_list[:14]\n",
        "print(f'The first half of the string using only the ending index: {value}')\n",
        "\n",
        "\n",
        "#3.The second half of the string using starting and ending indices\n",
        "value = my_list[13:27]\n",
        "print(f'The second half of the string using starting and ending indices: {value}')\n",
        "\n",
        "#4.The second half of the string using only the starting index\n",
        "value = my_list[13:]\n",
        "print(f'The second half of the string using only the starting index: {value}')\n",
        "\n",
        "\n",
        "#5.Every second letter in the string starting with 'a'\n",
        "value = my_list[0::2]\n",
        "print(f\"Every second letter in the string starting with 'a': {value}\")\n",
        "\n",
        "\n",
        "#6.The entire string in reverse\n",
        "value = my_list[::-1]\n",
        "print(f\"The entire string in reverse: {value}\")\n",
        "\n",
        "#7.Every third letter of the string in reverse starting with 'z'\n",
        "value = my_list[::-3]\n",
        "print(f\"Every third letter of the string in reverse starting with 'z': {value}\")\n"
      ]
    },
    {
      "cell_type": "code",
      "source": [],
      "metadata": {
        "id": "X1EjKIOigEIW"
      },
      "execution_count": null,
      "outputs": []
    },
    {
      "cell_type": "markdown",
      "source": [
        "Question 2: Given a two-dimensional list a below, write a program to print out each element of the list in the format \"a[row][column] = item\"\n",
        "Hint: use enumerate to access both the index and values of the array instead of accessing only it index\n",
        "\n",
        "\n",
        "\n",
        "```\n",
        "a = [[77, 68, 23, 89],\n",
        "     [10, 23, 87, 99],\n",
        "     [20, 34, 76, 97]]\n",
        "\n",
        "```\n",
        "\n"
      ],
      "metadata": {
        "id": "91x6OkoVni96"
      }
    },
    {
      "cell_type": "code",
      "source": [
        "#two dimensional list given\n",
        "a = [[77, 68, 23, 89],\n",
        "     [10, 23, 87, 99],\n",
        "     [20, 34, 76, 97]]\n",
        "\n",
        "#loop through it using emumerate to access both index and value of the list and store that in two variables\n",
        "for row_index, row in enumerate(a):\n",
        "  #in each row loop through each column also using enumerate and store it in two variables\n",
        "    for col_index, col_value in enumerate(row):\n",
        "      #print in the expected format using formatted f-string\n",
        "        print(f'a[{row_index}][{col_index}] = {col_value}')\n",
        "        #create a space after each row\n",
        "        print()"
      ],
      "metadata": {
        "colab": {
          "base_uri": "https://localhost:8080/"
        },
        "id": "yTFfAKuPoQM0",
        "outputId": "019c903b-dea0-4ad2-abaa-98e2773e2fdf"
      },
      "execution_count": null,
      "outputs": [
        {
          "output_type": "stream",
          "name": "stdout",
          "text": [
            "a[0][0] = 77\n",
            "\n",
            "a[0][1] = 68\n",
            "\n",
            "a[0][2] = 23\n",
            "\n",
            "a[0][3] = 89\n",
            "\n",
            "a[1][0] = 10\n",
            "\n",
            "a[1][1] = 23\n",
            "\n",
            "a[1][2] = 87\n",
            "\n",
            "a[1][3] = 99\n",
            "\n",
            "a[2][0] = 20\n",
            "\n",
            "a[2][1] = 34\n",
            "\n",
            "a[2][2] = 76\n",
            "\n",
            "a[2][3] = 97\n",
            "\n"
          ]
        }
      ]
    },
    {
      "cell_type": "code",
      "source": [],
      "metadata": {
        "id": "W-ANJNJgwehh"
      },
      "execution_count": null,
      "outputs": []
    }
  ]
}