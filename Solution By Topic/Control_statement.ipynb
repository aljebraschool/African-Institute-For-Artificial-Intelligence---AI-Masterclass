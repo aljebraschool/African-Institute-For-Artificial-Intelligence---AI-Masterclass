{
  "nbformat": 4,
  "nbformat_minor": 0,
  "metadata": {
    "colab": {
      "provenance": []
    },
    "kernelspec": {
      "name": "python3",
      "display_name": "Python 3"
    },
    "language_info": {
      "name": "python"
    }
  },
  "cells": [
    {
      "cell_type": "markdown",
      "source": [
        "Question 1: Given the following grades scale write a program that will inform student of the stutus of their score in accordance with given grade scale\n",
        "\n",
        "\n",
        "\n",
        "```\n",
        "grade 90 and above is A\n",
        "\n",
        "grade greater than 80 but less than 90 is B\n",
        "\n",
        "grade greater than 70 but less than 80 is C\n",
        "\n",
        "grade greater than 60 but less than 70 is D\n",
        "\n",
        "grede greater than 50 but less than 60 is E\n",
        "\n",
        "grades less than 50 is F - failure\n",
        "```"
      ],
      "metadata": {
        "id": "Ftz2PqZEc2Tp"
      }
    },
    {
      "cell_type": "code",
      "source": [
        "#This is a conditional problem that can be solved using selection statement\n",
        "\n",
        "\n",
        "#request for student's grade\n",
        "student_grade = int(input('please enter a valid grade or -1 to quit'))\n",
        "\n",
        "#keeps looping until the user presses -1\n",
        "while student_grade != -1:\n",
        "  if student_grade >= 90:\n",
        "    print(f'You did excellently well, your grade scale is: A')\n",
        "    student_grade = int(input('please enter a valid grade or -1 to quit'))\n",
        "  elif student_grade >=80:\n",
        "    print(f'You performance is commendable, your grade scale is: B')\n",
        "    student_grade = int(input('please enter a valid grade or -1 to quit'))\n",
        "  elif student_grade >= 70:\n",
        "    print(f'You did well, your grade scale is: C')\n",
        "    student_grade = int(input('please enter a valid grade or -1 to quit'))\n",
        "  elif student_grade >= 60:\n",
        "    print(f'You should on this!, your grade scale is: D')\n",
        "    student_grade = int(input('please enter a valid grade or -1 to quit'))\n",
        "  elif student_grade >= 50:\n",
        "    print(f'This is not a good performance, you must improve next time, your grade scale is: E')\n",
        "    student_grade = int(input('please enter a valid grade or -1 to quit'))\n",
        "  else:\n",
        "    print(f'You perform is quite bad, your grade scale is: F')\n",
        "    student_grade = int(input('please enter a valid grade or -1 to quit'))\n",
        "\n",
        "#if user entered an invalid grade print this message\n",
        "print('You have entered an invalid number, please try again!')\n",
        "\n",
        "\n",
        "\n"
      ],
      "metadata": {
        "colab": {
          "base_uri": "https://localhost:8080/"
        },
        "id": "aCUwNEGReqcw",
        "outputId": "09994963-fdc6-49e9-bf66-3e2a40c3da41"
      },
      "execution_count": null,
      "outputs": [
        {
          "output_type": "stream",
          "name": "stdout",
          "text": [
            "please enter a valid grade or -1 to quit-1\n",
            "You have entered an invalid number, please try again!\n"
          ]
        }
      ]
    },
    {
      "cell_type": "markdown",
      "source": [
        "Question 2: Write a script that calculates the squares and cubes of the number from 0 and 5. Print the resulting values in table format, as shown below.Use the tab escape sequence to achieve the three-column output\n",
        "\n",
        "\n",
        "\n",
        "```\n",
        "number\t square\t cube\n",
        "     0       0       0\n",
        "     1       1       1\n",
        "     2       4       8\n",
        "     3       9      27\n",
        "     4      16      64\n",
        "     5      25     125\n",
        "\n",
        "```\n",
        "\n"
      ],
      "metadata": {
        "id": "m3mMcwtBiH0H"
      }
    },
    {
      "cell_type": "code",
      "source": [
        "print('number\\tsquare\\tcube')\n",
        "\n",
        "for number in range(0, 6):\n",
        "  print(f'{number:>3}{number**2:>6}{number**3:>8}')\n"
      ],
      "metadata": {
        "colab": {
          "base_uri": "https://localhost:8080/"
        },
        "id": "H45z3U3fdnXU",
        "outputId": "9416605d-18f6-44b9-c67a-cf2f754ec8d6"
      },
      "execution_count": null,
      "outputs": [
        {
          "output_type": "stream",
          "name": "stdout",
          "text": [
            "number\tsquare\tcube\n",
            "  0     0       0\n",
            "  1     1       1\n",
            "  2     4       8\n",
            "  3     9      27\n",
            "  4    16      64\n",
            "  5    25     125\n"
          ]
        }
      ]
    },
    {
      "cell_type": "markdown",
      "source": [
        "Question 3: Factorial of a non-negative number is gotten by multiplying the number by itself while it decreases, for example, factorial of 3 is 3 x 4 x 2 x 1. Factorial of 0 is 1. Given a number, build a calculator than can be used to find the factorial of that given number."
      ],
      "metadata": {
        "id": "G48mDrsknjLd"
      }
    },
    {
      "cell_type": "code",
      "source": [
        "number = int(input('Enter a valid digit : '))\n",
        "\n",
        "given_number = number\n",
        "\n",
        "product = 1\n",
        "\n",
        "if number < 0:\n",
        "  print('enter number greater than 0 ')\n",
        "elif number == 0:\n",
        "  print(f'0! = {1}')\n",
        "\n",
        "while number >= 1:\n",
        "  product = product * number\n",
        "  number -= 1\n",
        "\n",
        "print(f'{given_number}! = ', product)\n"
      ],
      "metadata": {
        "colab": {
          "base_uri": "https://localhost:8080/"
        },
        "id": "mg8albW8jdzh",
        "outputId": "3f0d028a-d93d-4289-e252-e69c9a76f83e"
      },
      "execution_count": null,
      "outputs": [
        {
          "output_type": "stream",
          "name": "stdout",
          "text": [
            "Enter a valid digit : 5\n",
            "5! =  120\n"
          ]
        }
      ]
    },
    {
      "cell_type": "code",
      "source": [],
      "metadata": {
        "id": "JXmfHZ1lmyjN"
      },
      "execution_count": null,
      "outputs": []
    }
  ]
}