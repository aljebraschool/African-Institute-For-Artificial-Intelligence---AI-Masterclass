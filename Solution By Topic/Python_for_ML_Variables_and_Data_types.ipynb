{
  "nbformat": 4,
  "nbformat_minor": 0,
  "metadata": {
    "colab": {
      "provenance": []
    },
    "kernelspec": {
      "name": "python3",
      "display_name": "Python 3"
    },
    "language_info": {
      "name": "python"
    }
  },
  "cells": [
    {
      "cell_type": "markdown",
      "source": [
        "## Python for ML- Variables and Data types (Practice Questions and Solutions)"
      ],
      "metadata": {
        "id": "Lw0M9Owoyghp"
      }
    },
    {
      "cell_type": "markdown",
      "source": [
        "Question 1: For a circle of radius 2, display the diameter, circumference and area. Use the value 3.14159 for pie,\n",
        "\n",
        "\n",
        "\n",
        "```\n",
        "# input parameters\n",
        "\n",
        "radius = r\n",
        "diameter = 2 * r\n",
        "formula\n",
        "circumference = 2 * pie * r\n",
        "area = pie * r ^ 2\n",
        "```\n",
        "\n",
        "\n",
        "\n"
      ],
      "metadata": {
        "id": "VMODvWb__C_0"
      }
    },
    {
      "cell_type": "code",
      "execution_count": null,
      "metadata": {
        "colab": {
          "base_uri": "https://localhost:8080/"
        },
        "id": "ZWcx5KgTx7hM",
        "outputId": "c7dbac05-c0c1-4a61-b228-bbe05a3f75ad"
      },
      "outputs": [
        {
          "output_type": "stream",
          "name": "stdout",
          "text": [
            "diameter is:  4\n"
          ]
        }
      ],
      "source": [
        "\n",
        "#given a radius of 2, let's display the diameter, circumference and area.\n",
        "\n",
        "#display diameter\n",
        "r = 2 #store radius in\n",
        "\n",
        "diameter =  2 * r #compute diameter\n",
        "\n",
        "#print out result\n",
        "print('diameter is: ',diameter)\n",
        "\n"
      ]
    },
    {
      "cell_type": "code",
      "source": [
        "#compute and display circumference of the circle\n",
        "\n",
        "pie = 3.14159 #store pie value in pie\n",
        "\n",
        "r = 2 #store radius in r\n",
        "\n",
        "circumference = 2 * pie * r #compute circuference\n",
        "\n",
        "#print out result\n",
        "print('circumference is: ', circumference )\n"
      ],
      "metadata": {
        "colab": {
          "base_uri": "https://localhost:8080/"
        },
        "id": "O-8SMy3q08a0",
        "outputId": "8619f15f-560d-4dd8-f3b4-481f212442e2"
      },
      "execution_count": null,
      "outputs": [
        {
          "output_type": "stream",
          "name": "stdout",
          "text": [
            "circumference is:  12.56636\n"
          ]
        }
      ]
    },
    {
      "cell_type": "code",
      "source": [
        "#compute and display area of the circle\n",
        "\n",
        "pie = 3.14159 #store pie value in pie\n",
        "\n",
        "r = 2 #store radius in r\n",
        "\n",
        "area = pie * r ** 2\n",
        "\n",
        "#print out result\n",
        "print('area is: ', area )"
      ],
      "metadata": {
        "colab": {
          "base_uri": "https://localhost:8080/"
        },
        "id": "rAmfh1B40-QN",
        "outputId": "6b25a730-5a3d-4d27-d78b-625415e794c6"
      },
      "execution_count": null,
      "outputs": [
        {
          "output_type": "stream",
          "name": "stdout",
          "text": [
            "area is:  12.56636\n"
          ]
        }
      ]
    },
    {
      "cell_type": "markdown",
      "source": [
        "Question 2: Write a script that inputs three integers from the user. Display the sum, average and product\n"
      ],
      "metadata": {
        "id": "uTInzRSV--uz"
      }
    },
    {
      "cell_type": "code",
      "source": [
        "#request three numbers from user\n",
        "\n",
        "first_input = int(input('enter the first number: '))\n",
        "second_input = int(input('enter the second number: '))\n",
        "third_input = int(input('enter the third number: '))\n",
        "\n",
        "#calculate the sum of numbers\n",
        "sum = first_input + second_input + third_input\n",
        "\n",
        "#print out result\n",
        "print('sum of values is: ', sum)\n"
      ],
      "metadata": {
        "colab": {
          "base_uri": "https://localhost:8080/"
        },
        "id": "JcFaxAOY1as4",
        "outputId": "77732eab-2d37-4b01-c82c-9fe8df91c9f9"
      },
      "execution_count": null,
      "outputs": [
        {
          "output_type": "stream",
          "name": "stdout",
          "text": [
            "enter the first number2\n",
            "enter the second number3\n",
            "enter the third number4\n",
            "sum of values is:  9\n"
          ]
        }
      ]
    },
    {
      "cell_type": "code",
      "source": [
        "#calculate the product of the numbers\n",
        "product = first_input * second_input * third_input\n",
        "\n",
        "#print result\n",
        "print('product of the thres numbers is: ', product)"
      ],
      "metadata": {
        "colab": {
          "base_uri": "https://localhost:8080/"
        },
        "id": "lo4yGydF4w92",
        "outputId": "4c35e9f7-7dbe-4f32-b9f8-5c62ad120cd8"
      },
      "execution_count": null,
      "outputs": [
        {
          "output_type": "stream",
          "name": "stdout",
          "text": [
            "product of the thres numbers is:  24\n"
          ]
        }
      ]
    },
    {
      "cell_type": "code",
      "source": [
        "#calculate the average of numbers\n",
        "average = sum / 3\n",
        "\n",
        "#print result\n",
        "print('average of the three number is: ', average)"
      ],
      "metadata": {
        "colab": {
          "base_uri": "https://localhost:8080/"
        },
        "id": "h2GVSauv4WnR",
        "outputId": "4d238840-1ebe-4e42-d4b2-86d4f4e14f64"
      },
      "execution_count": null,
      "outputs": [
        {
          "output_type": "stream",
          "name": "stdout",
          "text": [
            "average of the three number is:  3.0\n"
          ]
        }
      ]
    },
    {
      "cell_type": "markdown",
      "source": [
        "Question 3: Some investment advisors say that it's reasonable to expect a 7% return over the long term in the stock market.\n",
        "Assumming that you begin with $1000 and leave your money invested, calculate and display how much you'll have after 10, 20, and 30 years\n",
        "\n",
        "Use the following formula : a = p(1 + r)^n\n"
      ],
      "metadata": {
        "id": "wUN0r3NF-0tW"
      }
    },
    {
      "cell_type": "code",
      "source": [
        "#store each value in a variable\n",
        "rate = 0.07 #rate of interest given\n",
        "principal = 1000 #initial money deposited\n",
        "\n",
        "#number of years for investing\n",
        "ten_years = 10\n",
        "twenty_years = 20\n",
        "thirty_years = 30\n",
        "\n",
        "#using the formula given, calculate the amount for each year\n",
        "\n",
        "amount = principal * (1 + rate ) **ten_years\n",
        "print('amount for the first ten years: ', amount)\n",
        "\n",
        "amount = principal * (1 + rate ) **twenty_years\n",
        "print('amount for the first ten years: ', amount)\n",
        "\n",
        "\n",
        "amount = principal * (1 + rate ) **thirty_years\n",
        "print('amount for the first ten years: ', amount)"
      ],
      "metadata": {
        "colab": {
          "base_uri": "https://localhost:8080/"
        },
        "id": "48j0UGBg5Koa",
        "outputId": "876941c5-52f9-4aa3-e3dc-e8c56d057814"
      },
      "execution_count": null,
      "outputs": [
        {
          "output_type": "stream",
          "name": "stdout",
          "text": [
            "amount for the first ten years:  1967.1513572895665\n",
            "amount for the first ten years:  3869.6844624861833\n",
            "amount for the first ten years:  7612.255042662042\n"
          ]
        }
      ]
    },
    {
      "cell_type": "code",
      "source": [
        "list_ = ['a', 'b', 1, 2]"
      ],
      "metadata": {
        "id": "iZQKoQOT9FQV"
      },
      "execution_count": null,
      "outputs": []
    },
    {
      "cell_type": "code",
      "source": [
        "list_[-3]"
      ],
      "metadata": {
        "colab": {
          "base_uri": "https://localhost:8080/",
          "height": 36
        },
        "id": "2cKRIWwwERZH",
        "outputId": "980ceb03-f180-4434-8f91-a94f0d971d5a"
      },
      "execution_count": null,
      "outputs": [
        {
          "output_type": "execute_result",
          "data": {
            "text/plain": [
              "'b'"
            ],
            "application/vnd.google.colaboratory.intrinsic+json": {
              "type": "string"
            }
          },
          "metadata": {},
          "execution_count": 6
        }
      ]
    },
    {
      "cell_type": "code",
      "source": [],
      "metadata": {
        "id": "PzStfbTeOuFq"
      },
      "execution_count": null,
      "outputs": []
    }
  ]
}